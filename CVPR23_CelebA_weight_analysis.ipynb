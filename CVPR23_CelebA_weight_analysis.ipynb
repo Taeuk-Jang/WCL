{
 "cells": [
  {
   "cell_type": "code",
   "execution_count": 1,
   "id": "92775e17",
   "metadata": {},
   "outputs": [
    {
     "data": {
      "text/html": [
       "<style>.container { width:95% !important; }<\\style>"
      ],
      "text/plain": [
       "<IPython.core.display.HTML object>"
      ]
     },
     "metadata": {},
     "output_type": "display_data"
    }
   ],
   "source": [
    "%load_ext autoreload\n",
    "%autoreload 2\n",
    "\n",
    "\n",
    "from IPython.core.display import display, HTML\n",
    "display(HTML(\"<style>.container { width:95% !important; }<\\style>\"))\n",
    "import argparse\n",
    "import os\n",
    "import pandas as pd\n",
    "\n",
    "import numpy as np\n",
    "from sklearn.manifold import TSNE\n",
    "import matplotlib.pyplot as plt\n",
    "\n",
    "from PIL import Image\n",
    "import tqdm\n"
   ]
  },
  {
   "cell_type": "code",
   "execution_count": 2,
   "id": "55d473b2",
   "metadata": {},
   "outputs": [],
   "source": [
    "os.environ['CUDA_VISIBLE_DEVICES'] = '1,2'"
   ]
  },
  {
   "cell_type": "code",
   "execution_count": 3,
   "id": "f5b42773",
   "metadata": {},
   "outputs": [],
   "source": [
    "import torch\n",
    "import torchvision.transforms as transforms\n",
    "from torch.utils.data import Dataset, DataLoader\n",
    "from torchvision import models\n",
    "from torchvision import datasets, models, transforms\n",
    "import torch.nn as nn\n",
    "from torch.nn import functional as F\n",
    "import torch.optim as optim\n",
    "from collections import OrderedDict\n",
    "from torch.nn.functional import one_hot as one_hot\n",
    "import torch.utils.data as data\n",
    "import utils\n",
    "from model import * \n",
    "from utils import *"
   ]
  },
  {
   "cell_type": "code",
   "execution_count": 4,
   "id": "5172e6c1",
   "metadata": {},
   "outputs": [],
   "source": [
    "class Classifier(nn.Module):\n",
    "    def __init__(self):\n",
    "        super(Classifier, self).__init__()\n",
    "        \n",
    "        base = models.resnet18(pretrained=True)\n",
    "        base.fc = nn.Linear(512, 512)\n",
    "        \n",
    "        self.model = base\n",
    "        self.finalLayer = nn.Linear(512, 256)\n",
    "            \n",
    "    def forward(self, x, sens = None):\n",
    "        feature = self.model(x)\n",
    "        output = self.finalLayer(torch.relu(feature))\n",
    "            \n",
    "        return F.normalize(feature, dim = -1), F.normalize(output, dim = -1)"
   ]
  },
  {
   "cell_type": "code",
   "execution_count": 5,
   "id": "4b9b679f",
   "metadata": {},
   "outputs": [],
   "source": [
    "class Net(nn.Module):\n",
    "    def __init__(self, num_class, pretrained_path = None):\n",
    "        super(Net, self).__init__()\n",
    "\n",
    "        # encoder\n",
    "        model = Image_Model().cuda()\n",
    "        model = nn.DataParallel(model)\n",
    "        if pretrained_path is not None:\n",
    "            model.load_state_dict(torch.load(pretrained_path, map_location='cuda:0'))\n",
    "       # self.f=model.f\n",
    "        self.f = model.module.model\n",
    "        # classifier\n",
    "        self.fc = nn.Linear(512, num_class, bias=True)\n",
    "\n",
    "    def forward(self, x):\n",
    "        x = self.f(x)\n",
    "        feature = torch.flatten(x, start_dim=1)\n",
    "        out = self.fc(feature)\n",
    "        return out"
   ]
  },
  {
   "cell_type": "code",
   "execution_count": 6,
   "id": "9ca8d9ae",
   "metadata": {},
   "outputs": [],
   "source": [
    "cls = Net(2)\n",
    "cls = nn.DataParallel(cls).cuda()"
   ]
  },
  {
   "cell_type": "code",
   "execution_count": 6,
   "id": "18ea706f",
   "metadata": {},
   "outputs": [],
   "source": [
    "batch_size = 128\n",
    "device = 'cuda:0'\n",
    "tau_plus = 0.1\n",
    "dataset_name = 'celeba'\n",
    "beta =0.9\n",
    "estimator = 'hard'\n",
    "temperature =0.7\n",
    "epochs = 400\n"
   ]
  },
  {
   "cell_type": "markdown",
   "id": "0b40faee",
   "metadata": {},
   "source": [
    "## Eval Hard samples?"
   ]
  },
  {
   "cell_type": "code",
   "execution_count": 7,
   "id": "2590d121",
   "metadata": {
    "scrolled": true
   },
   "outputs": [
    {
     "data": {
      "text/plain": [
       "DataParallel(\n",
       "  (module): Image_Model(\n",
       "    (model): ResNet(\n",
       "      (conv1): Conv2d(3, 64, kernel_size=(7, 7), stride=(2, 2), padding=(3, 3), bias=False)\n",
       "      (bn1): BatchNorm2d(64, eps=1e-05, momentum=0.1, affine=True, track_running_stats=True)\n",
       "      (relu): ReLU(inplace=True)\n",
       "      (maxpool): MaxPool2d(kernel_size=3, stride=2, padding=1, dilation=1, ceil_mode=False)\n",
       "      (layer1): Sequential(\n",
       "        (0): BasicBlock(\n",
       "          (conv1): Conv2d(64, 64, kernel_size=(3, 3), stride=(1, 1), padding=(1, 1), bias=False)\n",
       "          (bn1): BatchNorm2d(64, eps=1e-05, momentum=0.1, affine=True, track_running_stats=True)\n",
       "          (relu): ReLU(inplace=True)\n",
       "          (conv2): Conv2d(64, 64, kernel_size=(3, 3), stride=(1, 1), padding=(1, 1), bias=False)\n",
       "          (bn2): BatchNorm2d(64, eps=1e-05, momentum=0.1, affine=True, track_running_stats=True)\n",
       "        )\n",
       "        (1): BasicBlock(\n",
       "          (conv1): Conv2d(64, 64, kernel_size=(3, 3), stride=(1, 1), padding=(1, 1), bias=False)\n",
       "          (bn1): BatchNorm2d(64, eps=1e-05, momentum=0.1, affine=True, track_running_stats=True)\n",
       "          (relu): ReLU(inplace=True)\n",
       "          (conv2): Conv2d(64, 64, kernel_size=(3, 3), stride=(1, 1), padding=(1, 1), bias=False)\n",
       "          (bn2): BatchNorm2d(64, eps=1e-05, momentum=0.1, affine=True, track_running_stats=True)\n",
       "        )\n",
       "      )\n",
       "      (layer2): Sequential(\n",
       "        (0): BasicBlock(\n",
       "          (conv1): Conv2d(64, 128, kernel_size=(3, 3), stride=(2, 2), padding=(1, 1), bias=False)\n",
       "          (bn1): BatchNorm2d(128, eps=1e-05, momentum=0.1, affine=True, track_running_stats=True)\n",
       "          (relu): ReLU(inplace=True)\n",
       "          (conv2): Conv2d(128, 128, kernel_size=(3, 3), stride=(1, 1), padding=(1, 1), bias=False)\n",
       "          (bn2): BatchNorm2d(128, eps=1e-05, momentum=0.1, affine=True, track_running_stats=True)\n",
       "          (downsample): Sequential(\n",
       "            (0): Conv2d(64, 128, kernel_size=(1, 1), stride=(2, 2), bias=False)\n",
       "            (1): BatchNorm2d(128, eps=1e-05, momentum=0.1, affine=True, track_running_stats=True)\n",
       "          )\n",
       "        )\n",
       "        (1): BasicBlock(\n",
       "          (conv1): Conv2d(128, 128, kernel_size=(3, 3), stride=(1, 1), padding=(1, 1), bias=False)\n",
       "          (bn1): BatchNorm2d(128, eps=1e-05, momentum=0.1, affine=True, track_running_stats=True)\n",
       "          (relu): ReLU(inplace=True)\n",
       "          (conv2): Conv2d(128, 128, kernel_size=(3, 3), stride=(1, 1), padding=(1, 1), bias=False)\n",
       "          (bn2): BatchNorm2d(128, eps=1e-05, momentum=0.1, affine=True, track_running_stats=True)\n",
       "        )\n",
       "      )\n",
       "      (layer3): Sequential(\n",
       "        (0): BasicBlock(\n",
       "          (conv1): Conv2d(128, 256, kernel_size=(3, 3), stride=(2, 2), padding=(1, 1), bias=False)\n",
       "          (bn1): BatchNorm2d(256, eps=1e-05, momentum=0.1, affine=True, track_running_stats=True)\n",
       "          (relu): ReLU(inplace=True)\n",
       "          (conv2): Conv2d(256, 256, kernel_size=(3, 3), stride=(1, 1), padding=(1, 1), bias=False)\n",
       "          (bn2): BatchNorm2d(256, eps=1e-05, momentum=0.1, affine=True, track_running_stats=True)\n",
       "          (downsample): Sequential(\n",
       "            (0): Conv2d(128, 256, kernel_size=(1, 1), stride=(2, 2), bias=False)\n",
       "            (1): BatchNorm2d(256, eps=1e-05, momentum=0.1, affine=True, track_running_stats=True)\n",
       "          )\n",
       "        )\n",
       "        (1): BasicBlock(\n",
       "          (conv1): Conv2d(256, 256, kernel_size=(3, 3), stride=(1, 1), padding=(1, 1), bias=False)\n",
       "          (bn1): BatchNorm2d(256, eps=1e-05, momentum=0.1, affine=True, track_running_stats=True)\n",
       "          (relu): ReLU(inplace=True)\n",
       "          (conv2): Conv2d(256, 256, kernel_size=(3, 3), stride=(1, 1), padding=(1, 1), bias=False)\n",
       "          (bn2): BatchNorm2d(256, eps=1e-05, momentum=0.1, affine=True, track_running_stats=True)\n",
       "        )\n",
       "      )\n",
       "      (layer4): Sequential(\n",
       "        (0): BasicBlock(\n",
       "          (conv1): Conv2d(256, 512, kernel_size=(3, 3), stride=(2, 2), padding=(1, 1), bias=False)\n",
       "          (bn1): BatchNorm2d(512, eps=1e-05, momentum=0.1, affine=True, track_running_stats=True)\n",
       "          (relu): ReLU(inplace=True)\n",
       "          (conv2): Conv2d(512, 512, kernel_size=(3, 3), stride=(1, 1), padding=(1, 1), bias=False)\n",
       "          (bn2): BatchNorm2d(512, eps=1e-05, momentum=0.1, affine=True, track_running_stats=True)\n",
       "          (downsample): Sequential(\n",
       "            (0): Conv2d(256, 512, kernel_size=(1, 1), stride=(2, 2), bias=False)\n",
       "            (1): BatchNorm2d(512, eps=1e-05, momentum=0.1, affine=True, track_running_stats=True)\n",
       "          )\n",
       "        )\n",
       "        (1): BasicBlock(\n",
       "          (conv1): Conv2d(512, 512, kernel_size=(3, 3), stride=(1, 1), padding=(1, 1), bias=False)\n",
       "          (bn1): BatchNorm2d(512, eps=1e-05, momentum=0.1, affine=True, track_running_stats=True)\n",
       "          (relu): ReLU(inplace=True)\n",
       "          (conv2): Conv2d(512, 512, kernel_size=(3, 3), stride=(1, 1), padding=(1, 1), bias=False)\n",
       "          (bn2): BatchNorm2d(512, eps=1e-05, momentum=0.1, affine=True, track_running_stats=True)\n",
       "        )\n",
       "      )\n",
       "      (avgpool): AdaptiveAvgPool2d(output_size=(1, 1))\n",
       "      (fc): Linear(in_features=512, out_features=512, bias=True)\n",
       "    )\n",
       "    (finalLayer): Linear(in_features=512, out_features=256, bias=True)\n",
       "  )\n",
       ")"
      ]
     },
     "execution_count": 7,
     "metadata": {},
     "output_type": "execute_result"
    }
   ],
   "source": [
    "model_d = Image_Model().cuda()\n",
    "model_d = nn.DataParallel(model_d)\n",
    "model_d.load_state_dict(torch.load(os.path.join(\"../results\", dataset_name, 'wcl', 'no_orient_new/celeba_model_d_256_0.1_0.001_20.pth')))\n",
    "model_d.eval()\n",
    "\n",
    "model_b = Image_Model().cuda()\n",
    "model_b = nn.DataParallel(model_b)\n",
    "model_b.load_state_dict(torch.load(os.path.join(\"../results\", dataset_name, 'wcl', 'no_orient_new/celeba_model_b_256_0.1_0.01_20.pth')))\n",
    "model_b.eval()\n"
   ]
  },
  {
   "cell_type": "code",
   "execution_count": null,
   "id": "f25d7891",
   "metadata": {},
   "outputs": [],
   "source": []
  },
  {
   "cell_type": "code",
   "execution_count": 8,
   "id": "9ff82294",
   "metadata": {
    "scrolled": true
   },
   "outputs": [
    {
     "name": "stderr",
     "output_type": "stream",
     "text": [
      "/home/taeuk/anaconda3/envs/main/lib/python3.9/site-packages/torchvision/transforms/transforms.py:852: UserWarning: Argument interpolation should be of type InterpolationMode instead of int. Please, use InterpolationMode enum.\n",
      "  warnings.warn(\n"
     ]
    }
   ],
   "source": [
    "train_data, memory_data, test_data = utils.get_dataset('celeba', root='../data', pair = False)\n",
    "\n",
    "train_loader = DataLoader(train_data, batch_size=batch_size, shuffle=False, num_workers=12, pin_memory=True, drop_last=True)\n",
    "memory_loader = DataLoader(memory_data, batch_size=batch_size, shuffle=False, num_workers=12, pin_memory=True)\n",
    "test_loader = DataLoader(test_data, batch_size=batch_size, shuffle=False, num_workers=12, pin_memory=True)\n",
    "\n",
    "k = 200\n",
    "c = len(memory_data.classes)"
   ]
  },
  {
   "cell_type": "code",
   "execution_count": null,
   "id": "bc284f87",
   "metadata": {},
   "outputs": [],
   "source": []
  },
  {
   "cell_type": "code",
   "execution_count": 9,
   "id": "7dd81990",
   "metadata": {},
   "outputs": [],
   "source": [
    "def get_negative_mask(batch_size):\n",
    "    negative_mask = torch.ones((batch_size, 1 * batch_size), dtype=bool)\n",
    "    for i in range(batch_size):\n",
    "        negative_mask[i, i] = 0\n",
    "#         negative_mask[i, i + batch_size] = 0\n",
    "#     negative_mask = torch.cat((negative_mask, negative_mask), 0)\n",
    "    return negative_mask\n",
    "\n",
    "def triplet(out_1,out_2,tau_plus,batch_size,temperature, debias = True):\n",
    "    N = batch_size * 2 - 2\n",
    "    out = torch.cat([out_1, out_2], dim=0) # 2 * bs x fs\n",
    "    s = torch.pow(out.unsqueeze(0) - out.unsqueeze(1), 2).sum(-1) # 2 * bs x 2 * bs\n",
    "    mask = get_negative_mask(batch_size).to(device)\n",
    "    \n",
    "    if debias:\n",
    "        s = s.masked_select(mask).view(2 * batch_size, -1)  # (2 * bs, 2 * bs - 2) : subtract self and its augment\n",
    "\n",
    "        pos = (torch.pow(out_1 - out_2, 2))\n",
    "        pos = torch.cat([pos, pos], dim=0).sum(-1)\n",
    "\n",
    "        neg = (-tau_plus * N * pos + s.sum(-1)) / (1 - tau_plus)\n",
    "\n",
    "    else:\n",
    "        neg = s.masked_select(mask).view(2 * batch_size, -1)  # (2 * bs, 2 * bs - 2) : subtract self and its augment\n",
    "\n",
    "        pos = (torch.pow(out_1 - out_2, 2))\n",
    "        pos = torch.cat([pos, pos], dim=0).sum(-1)\n",
    "\n",
    "    return (pos - neg).mean()\n",
    "\n",
    "def W(out_d, out_b, batch_size):\n",
    "    mask = get_negative_mask(batch_size).to(device)\n",
    "    \n",
    "#     difficulty by cosine similarity\n",
    "    s_d = torch.exp(torch.mm(out_d, out_d.t().contiguous()) / temperature)\n",
    "    s_d = s_d.masked_select(mask).view(1 * batch_size, -1) # (2 * bs, 2 * bs - 2) : subtract self and its augment\n",
    "    s_d = F.normalize(s_d, dim = -1)\n",
    "    \n",
    "    s_b = torch.exp(torch.mm(out_b, out_b.t().contiguous()) / temperature)\n",
    "    s_b = s_b.masked_select(mask).view(1 * batch_size, -1) # (2 * bs, 2 * bs - 2) : subtract self and its augment\n",
    "    s_b = F.normalize(s_b, dim = -1)\n",
    "    \n",
    "    weight = 1 + s_d / (s_b + s_d + 1e-6)\n",
    "#     print(weight)\n",
    "    if np.isnan(weight.sum().item()):\n",
    "        print('weight NaN')\n",
    "        \n",
    "    return weight.detach()\n",
    "\n",
    "def criterion(out_1_d, out_2_d, out_1_b, out_2_b, tau_plus, batch_size, beta, temperature):\n",
    "    # neg score\n",
    "    out = torch.cat([out_1_d, out_2_d], dim=0)\n",
    "    out_b = torch.cat([out_1_b, out_2_b], dim=0)\n",
    "    neg = torch.exp(torch.mm(out, out.t().contiguous()) / temperature)\n",
    "    mask = get_negative_mask(batch_size).to(device)\n",
    "    neg = neg.masked_select(mask).view(2 * batch_size, -1) # (2 * bs, bs - 2) : subtract self and its augment\n",
    "\n",
    "    # pos score\n",
    "    pos = torch.exp(torch.sum(out_1_d * out_2_d, dim=-1) / temperature)\n",
    "    pos = torch.cat([pos, pos], dim=0)\n",
    "    \n",
    "    weight = W(out, out_b, batch_size) # (2 * bs, bs - 2)\n",
    "\n",
    "    # negative samples similarity scoring\n",
    "    N = batch_size * 2 - 2\n",
    "#         imp = (beta* neg.log()).exp()\n",
    "#         reweight_neg = (imp*neg).sum(dim = -1) / imp.mean(dim = -1)\n",
    "    reweight_neg = weight * neg\n",
    "\n",
    "    Ng = (-tau_plus * N * pos + reweight_neg.sum(dim = -1)) / (1 - tau_plus)\n",
    "    # constrain (optional)\n",
    "    Ng = torch.clamp(Ng, min = N * np.e**(-1 / temperature))\n",
    "\n",
    "    # contrastive loss\n",
    "    loss = (-torch.log(pos / (pos + Ng) )).mean()\n",
    "\n",
    "    return loss"
   ]
  },
  {
   "cell_type": "code",
   "execution_count": null,
   "id": "86d8c7ad",
   "metadata": {},
   "outputs": [],
   "source": []
  },
  {
   "cell_type": "code",
   "execution_count": 14,
   "id": "e74930f7",
   "metadata": {},
   "outputs": [],
   "source": [
    "Anchor_dict = dict()\n",
    "\n",
    "with torch.no_grad():\n",
    "    for x, s, y in test_loader:\n",
    "        x, s, y = x.cuda(), s.cuda(), y.cuda()\n",
    "        bs = x.shape[0]\n",
    "        \n",
    "        class_id = s + 2 * y\n",
    "        feature_d, out = model_d(x)\n",
    "        feature_b, out_b = model_b(x)\n",
    "\n",
    "        neg = torch.exp(torch.mm(out, out.t().contiguous()) / temperature)\n",
    "        weight = W(out, out_b, bs) # (bs, bs - 1)\n",
    "        \n",
    "        for i, cls_id in enumerate(class_id):\n",
    "            cls_id = cls_id.item()\n",
    "            if cls_id not in Anchor_dict.keys():\n",
    "                Anchor_dict[cls_id] = {'N':[], 'N_class':[], 'P':[]}\n",
    "                \n",
    "            cls_idx = class_id == cls_id\n",
    "            mask = torch.ones((bs,), dtype=bool).cuda()\n",
    "            mask[i] = 0\n",
    "            cls_idx = cls_idx.masked_select(mask)\n",
    "            \n",
    "            Anchor_dict[cls_id]['N'].append(weight[i][~cls_idx].detach().cpu())\n",
    "            Anchor_dict[cls_id]['N_class'].append(class_id.masked_select(mask)[~cls_idx].detach().cpu())\n",
    "            Anchor_dict[cls_id]['P'].append(weight[i][cls_idx].detach().cpu())\n",
    "            \n",
    "for key in Anchor_dict.keys():\n",
    "    Anchor_dict[key]['N'] = torch.cat(Anchor_dict[key]['N']).numpy()\n",
    "    Anchor_dict[key]['N_class'] = torch.cat(Anchor_dict[key]['N_class']).numpy()\n",
    "    Anchor_dict[key]['P'] = torch.cat(Anchor_dict[key]['P']).numpy()"
   ]
  },
  {
   "cell_type": "code",
   "execution_count": 15,
   "id": "66fbf9ab",
   "metadata": {
    "scrolled": true
   },
   "outputs": [
    {
     "data": {
      "image/png": "[encoded data removed]",
      "text/plain": [
       "<Figure size 576x432 with 1 Axes>"
      ]
     },
     "metadata": {
      "needs_background": "light"
     },
     "output_type": "display_data"
    },
    {
     "data": {
      "image/png": "[encoded data removed]",
      "text/plain": [
       "<Figure size 576x432 with 1 Axes>"
      ]
     },
     "metadata": {
      "needs_background": "light"
     },
     "output_type": "display_data"
    },
    {
     "data": {
      "image/png": "[encoded data removed]",
      "text/plain": [
       "<Figure size 576x432 with 1 Axes>"
      ]
     },
     "metadata": {
      "needs_background": "light"
     },
     "output_type": "display_data"
    },
    {
     "data": {
      "image/png": "[encoded data removed]",
      "text/plain": [
       "<Figure size 576x432 with 1 Axes>"
      ]
     },
     "metadata": {
      "needs_background": "light"
     },
     "output_type": "display_data"
    }
   ],
   "source": [
    "anchor_idx = 2\n",
    "\n",
    "for anchor_idx in range(4):\n",
    "    plt.figure(figsize = (8,6))\n",
    "    for i in range(4):\n",
    "        if i != anchor_idx:\n",
    "            plt.hist(Anchor_dict[anchor_idx]['N'][Anchor_dict[anchor_idx]['N_class'] == i], bins = 50, alpha = 0.5, density = True, label = i )\n",
    "    plt.legend()\n",
    "    plt.title('Anchor = {}'.format(anchor_idx))\n",
    "    plt.show()"
   ]
  },
  {
   "cell_type": "code",
   "execution_count": null,
   "id": "c98f780a",
   "metadata": {},
   "outputs": [],
   "source": []
  },
  {
   "cell_type": "markdown",
   "id": "f6b5b8bc",
   "metadata": {},
   "source": [
    "## Cosine Similarlity"
   ]
  },
  {
   "cell_type": "code",
   "execution_count": 18,
   "id": "25648de0",
   "metadata": {},
   "outputs": [],
   "source": [
    "import numpy as np\n",
    "import seaborn as sns\n",
    "import scipy.stats as stats\n",
    "import matplotlib.pyplot as plt"
   ]
  },
  {
   "cell_type": "code",
   "execution_count": 16,
   "id": "4af77f09",
   "metadata": {},
   "outputs": [],
   "source": [
    "# model_d = Image_Model().cuda()\n",
    "# model_d = nn.DataParallel(model_d)\n",
    "# model_d.load_state_dict(torch.load(os.path.join(\"../results\", dataset_name, 'wcl', 'no_orient_new/celeba_model_d_256_0.1_0.001_20.pth')))\n",
    "# model_d.eval();\n",
    "\n",
    "#HCL\n",
    "# model_d = Image_Model().cuda()\n",
    "# model_d = nn.DataParallel(model_d)\n",
    "# model_d.load_state_dict(torch.load(os.path.join(\"../results\", dataset_name, 'hcl', 'celeba_hard_model_256_0.3_1.0_20.pth')))\n",
    "# model_d.eval();\n",
    "\n",
    "#DCL\n",
    "model_d = Image_Model().cuda()\n",
    "model_d = nn.DataParallel(model_d)\n",
    "model_d.load_state_dict(torch.load(os.path.join(\"../results\", dataset_name, 'dcl', 'model_20.pth')))\n",
    "model_d.eval();\n"
   ]
  },
  {
   "cell_type": "code",
   "execution_count": 13,
   "id": "3847bfd8",
   "metadata": {},
   "outputs": [],
   "source": [
    "feature_lst = list()\n",
    "class_id_lst = list()\n",
    "Anchor_dict = dict()\n",
    "\n",
    "with torch.no_grad():\n",
    "    for x, s, y in test_loader:\n",
    "        x, s, y = x.cuda(), s.cuda(), y.cuda()\n",
    "        bs = x.shape[0]\n",
    "        \n",
    "        class_id = s + 2 * y\n",
    "        feature, out = model_d(x)\n",
    "\n",
    "        feature_lst.append(feature)\n",
    "        class_id_lst.append(class_id)\n",
    "        \n",
    "    feature_lst = torch.cat(feature_lst)\n",
    "    class_id_lst = torch.cat(class_id_lst)\n",
    "    bs = len(feature_lst)\n",
    "\n",
    "cs_list = list()\n",
    "for i in range(4):\n",
    "    cs_diag = torch.triu(torch.mm(feature_lst[class_id_lst == i], feature_lst[class_id_lst == i].t().contiguous()), diagonal = +1)\n",
    "    cs_diag = cs_diag[cs_diag != 0].detach().cpu()\n",
    "    cs_list.append(cs_diag)\n",
    "cs_list = torch.cat(cs_list).numpy()\n",
    "\n",
    "n_cs_list = list()\n",
    "for i in range(4):\n",
    "    cs_diag = torch.triu(torch.mm(feature_lst[class_id_lst == i], feature_lst[class_id_lst != i].t().contiguous()))\n",
    "    cs_diag = cs_diag[cs_diag != 0].detach().cpu()\n",
    "    n_cs_list.append(cs_diag)\n",
    "n_cs_list = torch.cat(n_cs_list).numpy()"
   ]
  },
  {
   "cell_type": "code",
   "execution_count": null,
   "id": "aadce740",
   "metadata": {},
   "outputs": [],
   "source": []
  },
  {
   "cell_type": "markdown",
   "id": "7fc988ea",
   "metadata": {},
   "source": [
    "#### HCL"
   ]
  },
  {
   "cell_type": "code",
   "execution_count": 15,
   "id": "68cc891f",
   "metadata": {},
   "outputs": [],
   "source": [
    "feature_lst_hcl = list()\n",
    "class_id_lst = list()\n",
    "\n",
    "with torch.no_grad():\n",
    "    for x, s, y in test_loader:\n",
    "        x, s, y = x.cuda(), s.cuda(), y.cuda()\n",
    "        bs = x.shape[0]\n",
    "        \n",
    "        class_id = s + 2 * y\n",
    "        feature, out = model_d(x)\n",
    "\n",
    "        feature_lst_hcl.append(feature)\n",
    "        class_id_lst.append(class_id)\n",
    "        \n",
    "    feature_lst_hcl = torch.cat(feature_lst_hcl)\n",
    "    class_id_lst = torch.cat(class_id_lst)\n",
    "    bs = len(feature_lst_hcl)\n",
    "\n",
    "\n",
    "cs_list_hcl = list()\n",
    "for i in range(4):\n",
    "    cs_diag = torch.triu(torch.mm(feature_lst_hcl[class_id_lst == i], feature_lst_hcl[class_id_lst == i].t().contiguous()), diagonal = +1)\n",
    "    cs_diag = cs_diag[cs_diag != 0].detach().cpu()\n",
    "    cs_list_hcl.append(cs_diag)\n",
    "cs_list_hcl = torch.cat(cs_list_hcl).numpy()\n",
    "\n",
    "n_cs_list_hcl = list()\n",
    "for i in range(4):\n",
    "    cs_diag = torch.triu(torch.mm(feature_lst_hcl[class_id_lst == i], feature_lst_hcl[class_id_lst != i].t().contiguous()))\n",
    "    cs_diag = cs_diag[cs_diag != 0].detach().cpu()\n",
    "    n_cs_list_hcl.append(cs_diag)\n",
    "n_cs_list_hcl = torch.cat(n_cs_list_hcl).numpy()"
   ]
  },
  {
   "cell_type": "markdown",
   "id": "d6a403ee",
   "metadata": {},
   "source": [
    "#### DCL"
   ]
  },
  {
   "cell_type": "code",
   "execution_count": 17,
   "id": "296ae318",
   "metadata": {},
   "outputs": [],
   "source": [
    "feature_lst_dcl = list()\n",
    "class_id_lst = list()\n",
    "\n",
    "with torch.no_grad():\n",
    "    for x, s, y in test_loader:\n",
    "        x, s, y = x.cuda(), s.cuda(), y.cuda()\n",
    "        bs = x.shape[0]\n",
    "        \n",
    "        class_id = s + 2 * y\n",
    "        feature, out = model_d(x)\n",
    "\n",
    "        feature_lst_dcl.append(feature)\n",
    "        class_id_lst.append(class_id)\n",
    "        \n",
    "    feature_lst_dcl = torch.cat(feature_lst_dcl)\n",
    "    class_id_lst = torch.cat(class_id_lst)\n",
    "    bs = len(feature_lst_dcl)\n",
    "\n",
    "\n",
    "cs_list_dcl = list()\n",
    "for i in range(4):\n",
    "    cs_diag = torch.triu(torch.mm(feature_lst_dcl[class_id_lst == i], feature_lst_dcl[class_id_lst == i].t().contiguous()), diagonal = +1)\n",
    "    cs_diag = cs_diag[cs_diag != 0].detach().cpu()\n",
    "    cs_list_dcl.append(cs_diag)\n",
    "cs_list_dcl = torch.cat(cs_list_dcl).numpy()\n",
    "\n",
    "n_cs_list_dcl = list()\n",
    "for i in range(4):\n",
    "    cs_diag = torch.triu(torch.mm(feature_lst_dcl[class_id_lst == i], feature_lst_dcl[class_id_lst != i].t().contiguous()))\n",
    "    cs_diag = cs_diag[cs_diag != 0].detach().cpu()\n",
    "    n_cs_list_dcl.append(cs_diag)\n",
    "n_cs_list_dcl = torch.cat(n_cs_list_dcl).numpy()"
   ]
  },
  {
   "cell_type": "code",
   "execution_count": 25,
   "id": "cd206892",
   "metadata": {},
   "outputs": [
    {
     "data": {
      "text/plain": [
       "array([8351,  232, 7642, ..., 7671, 5321, 2627])"
      ]
     },
     "execution_count": 25,
     "metadata": {},
     "output_type": "execute_result"
    }
   ],
   "source": []
  },
  {
   "cell_type": "code",
   "execution_count": 26,
   "id": "ae50f05f",
   "metadata": {},
   "outputs": [
    {
     "name": "stderr",
     "output_type": "stream",
     "text": [
      "/home/taeuk/anaconda3/envs/main/lib/python3.9/site-packages/seaborn/distributions.py:2619: FutureWarning: `distplot` is a deprecated function and will be removed in a future version. Please adapt your code to use either `displot` (a figure-level function with similar flexibility) or `histplot` (an axes-level function for histograms).\n",
      "  warnings.warn(msg, FutureWarning)\n",
      "/home/taeuk/anaconda3/envs/main/lib/python3.9/site-packages/seaborn/distributions.py:2619: FutureWarning: `distplot` is a deprecated function and will be removed in a future version. Please adapt your code to use either `displot` (a figure-level function with similar flexibility) or `histplot` (an axes-level function for histograms).\n",
      "  warnings.warn(msg, FutureWarning)\n",
      "/home/taeuk/anaconda3/envs/main/lib/python3.9/site-packages/seaborn/distributions.py:2619: FutureWarning: `distplot` is a deprecated function and will be removed in a future version. Please adapt your code to use either `displot` (a figure-level function with similar flexibility) or `histplot` (an axes-level function for histograms).\n",
      "  warnings.warn(msg, FutureWarning)\n"
     ]
    },
    {
     "data": {
      "image/png": "[encoded data removed]",
      "text/plain": [
       "<Figure size 432x288 with 1 Axes>"
      ]
     },
     "metadata": {
      "needs_background": "light"
     },
     "output_type": "display_data"
    }
   ],
   "source": [
    "ax = sns.distplot(cs_list_dcl[np.random.randint(len(cs_list_dcl), size = (100000,))], fit_kws={\"color\":\"red\"}, kde=False,\n",
    "        fit=stats.beta, hist=None, label=\"label 1\");\n",
    "ax = sns.distplot(cs_list_hcl[np.random.randint(len(cs_list_hcl), size = (100000,))], fit_kws={\"color\":\"green\"}, kde=False,\n",
    "        fit=stats.beta, hist=None, label=\"label 1\");\n",
    "ax = sns.distplot(cs_list[np.random.randint(len(cs_list), size = (100000,))], fit_kws={\"color\":\"blue\"}, kde=False,\n",
    "        fit=stats.gamma, hist=None, label=\"label 2\");\n",
    "\n",
    "# Get the two lines from the axes to generate shading\n",
    "l1 = ax.lines[0]\n",
    "l2 = ax.lines[1]\n",
    "l3 = ax.lines[2]\n",
    "\n",
    "# Get the xy data from the lines so that we can shade\n",
    "x1 = l1.get_xydata()[:,0]\n",
    "y1 = l1.get_xydata()[:,1]\n",
    "x2 = l2.get_xydata()[:,0]\n",
    "y2 = l2.get_xydata()[:,1]\n",
    "x3 = l3.get_xydata()[:,0]\n",
    "y3 = l3.get_xydata()[:,1]\n",
    "ax.fill_between(x1,y1, color=\"red\", alpha=0.3)\n",
    "ax.fill_between(x2,y2, color=\"green\", alpha=0.3)\n",
    "ax.fill_between(x3,y3, color=\"blue\", alpha=0.3)\n",
    "\n",
    "plt.show(block=False)"
   ]
  },
  {
   "cell_type": "code",
   "execution_count": null,
   "id": "f90c8b08",
   "metadata": {},
   "outputs": [],
   "source": [
    "CUDA_VISIBLE_DEVICES=1,2 python linear.py --dataset_name imagenet --model_path ../results/imagenet/wcl/CVPR23/imagenet_model_d_256_0.01_0.5_0.001_0.001_100.pth --epochs 150"
   ]
  },
  {
   "cell_type": "code",
   "execution_count": 41,
   "id": "5a21a19d",
   "metadata": {},
   "outputs": [
    {
     "name": "stderr",
     "output_type": "stream",
     "text": [
      "/home/taeuk/anaconda3/envs/main/lib/python3.9/site-packages/seaborn/distributions.py:2619: FutureWarning: `distplot` is a deprecated function and will be removed in a future version. Please adapt your code to use either `displot` (a figure-level function with similar flexibility) or `histplot` (an axes-level function for histograms).\n",
      "  warnings.warn(msg, FutureWarning)\n",
      "/home/taeuk/anaconda3/envs/main/lib/python3.9/site-packages/seaborn/distributions.py:2619: FutureWarning: `distplot` is a deprecated function and will be removed in a future version. Please adapt your code to use either `displot` (a figure-level function with similar flexibility) or `histplot` (an axes-level function for histograms).\n",
      "  warnings.warn(msg, FutureWarning)\n",
      "/home/taeuk/anaconda3/envs/main/lib/python3.9/site-packages/seaborn/distributions.py:2619: FutureWarning: `distplot` is a deprecated function and will be removed in a future version. Please adapt your code to use either `displot` (a figure-level function with similar flexibility) or `histplot` (an axes-level function for histograms).\n",
      "  warnings.warn(msg, FutureWarning)\n"
     ]
    },
    {
     "data": {
      "image/png": "[encoded data removed]",
      "text/plain": [
       "<Figure size 432x288 with 1 Axes>"
      ]
     },
     "metadata": {
      "needs_background": "light"
     },
     "output_type": "display_data"
    }
   ],
   "source": [
    "ax = sns.distplot(n_cs_list_dcl[np.random.randint(len(n_cs_list_dcl), size = (200000,))], fit_kws={\"color\":\"red\"}, kde=False,\n",
    "        fit=stats.gamma, hist=None, label=\"DCL\");\n",
    "ax = sns.distplot(n_cs_list_hcl[np.random.randint(len(n_cs_list_hcl), size = (200000,))], fit_kws={\"color\":\"green\"}, kde=False,\n",
    "        fit=stats.gamma, hist=None, label=\"HCL\");\n",
    "ax = sns.distplot(n_cs_list[np.random.randint(len(n_cs_list), size = (200000,))], fit_kws={\"color\":\"blue\"}, kde=False,\n",
    "        fit=stats.gamma, hist=None, label=\"WCL\");\n",
    "# Get the two lines from the axes to generate shading\n",
    "l1 = ax.lines[0]\n",
    "l2 = ax.lines[1]\n",
    "l3 = ax.lines[2]\n",
    "\n",
    "# Get the xy data from the lines so that we can shade\n",
    "x1 = l1.get_xydata()[:,0]\n",
    "y1 = l1.get_xydata()[:,1]\n",
    "x2 = l2.get_xydata()[:,0]\n",
    "y2 = l2.get_xydata()[:,1]\n",
    "x3 = l3.get_xydata()[:,0]\n",
    "y3 = l3.get_xydata()[:,1]\n",
    "ax.fill_between(x1,y1, color=\"red\", alpha=0.3)\n",
    "ax.fill_between(x2,y2, color=\"green\", alpha=0.3)\n",
    "ax.fill_between(x3,y3, color=\"blue\", alpha=0.3)\n",
    "\n",
    "plt.xlim(0.0)\n",
    "plt.legend()\n",
    "plt.xlabel('Cosine Similarity', fontsize = 13)\n",
    "plt.ylabel('Frequency', fontsize = 14)\n",
    "plt.title('CelebA, Negative Samples', fontsize=16)\n",
    "plt.yticks([])\n",
    "plt.savefig('figures/illust/cosine_celeba_negative.pdf', bbox_inches = 'tight')\n",
    "plt.show(block=False)"
   ]
  },
  {
   "cell_type": "code",
   "execution_count": null,
   "id": "e1f2eb66",
   "metadata": {},
   "outputs": [],
   "source": []
  },
  {
   "cell_type": "code",
   "execution_count": null,
   "id": "42b7fc4a",
   "metadata": {},
   "outputs": [],
   "source": []
  },
  {
   "cell_type": "code",
   "execution_count": null,
   "id": "642ecad2",
   "metadata": {},
   "outputs": [],
   "source": []
  }
 ],
 "metadata": {
  "kernelspec": {
   "display_name": "Python [conda env:main]",
   "language": "python",
   "name": "conda-env-main-py"
  },
  "language_info": {
   "codemirror_mode": {
    "name": "ipython",
    "version": 3
   },
   "file_extension": ".py",
   "mimetype": "text/x-python",
   "name": "python",
   "nbconvert_exporter": "python",
   "pygments_lexer": "ipython3",
   "version": "3.9.7"
  }
 },
 "nbformat": 4,
 "nbformat_minor": 5
}

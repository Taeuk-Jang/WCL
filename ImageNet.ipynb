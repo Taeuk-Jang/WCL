{
 "cells": [
  {
   "cell_type": "code",
   "execution_count": 2,
   "id": "6dea6068",
   "metadata": {},
   "outputs": [],
   "source": [
    "import torch\n",
    "import argparse\n",
    "import torch.optim\n",
    "import torch.nn as nn\n",
    "import torch.utils.data\n",
    "import torchvision.models as models\n",
    "import torch.backends.cudnn as cudnn\n",
    "import torchvision.datasets as datasets\n",
    "import torchvision.transforms as transforms\n",
    "from torchvision.datasets import ImageFolder\n",
    "\n",
    "import torchvision"
   ]
  },
  {
   "cell_type": "code",
   "execution_count": 3,
   "id": "470f9eb2",
   "metadata": {},
   "outputs": [],
   "source": [
    "import os\n",
    "import shutil\n",
    "import argparse\n",
    "import pandas as pd"
   ]
  },
  {
   "cell_type": "code",
   "execution_count": 63,
   "id": "7637d624",
   "metadata": {},
   "outputs": [],
   "source": [
    "df = pd.read_csv('/data/imagenet/LOC_val_solution.csv')"
   ]
  },
  {
   "cell_type": "code",
   "execution_count": 64,
   "id": "250c6362",
   "metadata": {},
   "outputs": [],
   "source": [
    "df['class'] = pd.read_csv('/data/imagenet/LOC_val_solution.csv').PredictionString.apply(lambda x: x.split(' ')[0])"
   ]
  },
  {
   "cell_type": "code",
   "execution_count": 76,
   "id": "4da2b089",
   "metadata": {
    "scrolled": true
   },
   "outputs": [
    {
     "data": {
      "text/html": [
       "<div>\n",
       "<style scoped>\n",
       "    .dataframe tbody tr th:only-of-type {\n",
       "        vertical-align: middle;\n",
       "    }\n",
       "\n",
       "    .dataframe tbody tr th {\n",
       "        vertical-align: top;\n",
       "    }\n",
       "\n",
       "    .dataframe thead th {\n",
       "        text-align: right;\n",
       "    }\n",
       "</style>\n",
       "<table border=\"1\" class=\"dataframe\">\n",
       "  <thead>\n",
       "    <tr style=\"text-align: right;\">\n",
       "      <th></th>\n",
       "      <th>ImageId</th>\n",
       "      <th>PredictionString</th>\n",
       "      <th>class</th>\n",
       "    </tr>\n",
       "  </thead>\n",
       "  <tbody>\n",
       "    <tr>\n",
       "      <th>0</th>\n",
       "      <td>ILSVRC2012_val_00048981</td>\n",
       "      <td>n03995372 85 1 499 272</td>\n",
       "      <td>n03995372</td>\n",
       "    </tr>\n",
       "    <tr>\n",
       "      <th>1</th>\n",
       "      <td>ILSVRC2012_val_00037956</td>\n",
       "      <td>n03481172 131 0 499 254</td>\n",
       "      <td>n03481172</td>\n",
       "    </tr>\n",
       "    <tr>\n",
       "      <th>2</th>\n",
       "      <td>ILSVRC2012_val_00026161</td>\n",
       "      <td>n02108000 38 0 464 280</td>\n",
       "      <td>n02108000</td>\n",
       "    </tr>\n",
       "    <tr>\n",
       "      <th>3</th>\n",
       "      <td>ILSVRC2012_val_00026171</td>\n",
       "      <td>n03109150 0 14 216 299</td>\n",
       "      <td>n03109150</td>\n",
       "    </tr>\n",
       "    <tr>\n",
       "      <th>4</th>\n",
       "      <td>ILSVRC2012_val_00008726</td>\n",
       "      <td>n02119789 255 142 454 329 n02119789 44 21 322 ...</td>\n",
       "      <td>n02119789</td>\n",
       "    </tr>\n",
       "    <tr>\n",
       "      <th>...</th>\n",
       "      <td>...</td>\n",
       "      <td>...</td>\n",
       "      <td>...</td>\n",
       "    </tr>\n",
       "    <tr>\n",
       "      <th>49995</th>\n",
       "      <td>ILSVRC2012_val_00005961</td>\n",
       "      <td>n03388043 103 0 279 472</td>\n",
       "      <td>n03388043</td>\n",
       "    </tr>\n",
       "    <tr>\n",
       "      <th>49996</th>\n",
       "      <td>ILSVRC2012_val_00008801</td>\n",
       "      <td>n03089624 101 286 170 374 n03089624 236 282 30...</td>\n",
       "      <td>n03089624</td>\n",
       "    </tr>\n",
       "    <tr>\n",
       "      <th>49997</th>\n",
       "      <td>ILSVRC2012_val_00008176</td>\n",
       "      <td>n01518878 82 98 439 498</td>\n",
       "      <td>n01518878</td>\n",
       "    </tr>\n",
       "    <tr>\n",
       "      <th>49998</th>\n",
       "      <td>ILSVRC2012_val_00004764</td>\n",
       "      <td>n03874293 91 111 490 420</td>\n",
       "      <td>n03874293</td>\n",
       "    </tr>\n",
       "    <tr>\n",
       "      <th>49999</th>\n",
       "      <td>ILSVRC2012_val_00031847</td>\n",
       "      <td>n01855032 48 92 415 227</td>\n",
       "      <td>n01855032</td>\n",
       "    </tr>\n",
       "  </tbody>\n",
       "</table>\n",
       "<p>50000 rows × 3 columns</p>\n",
       "</div>"
      ],
      "text/plain": [
       "                       ImageId  \\\n",
       "0      ILSVRC2012_val_00048981   \n",
       "1      ILSVRC2012_val_00037956   \n",
       "2      ILSVRC2012_val_00026161   \n",
       "3      ILSVRC2012_val_00026171   \n",
       "4      ILSVRC2012_val_00008726   \n",
       "...                        ...   \n",
       "49995  ILSVRC2012_val_00005961   \n",
       "49996  ILSVRC2012_val_00008801   \n",
       "49997  ILSVRC2012_val_00008176   \n",
       "49998  ILSVRC2012_val_00004764   \n",
       "49999  ILSVRC2012_val_00031847   \n",
       "\n",
       "                                        PredictionString      class  \n",
       "0                                n03995372 85 1 499 272   n03995372  \n",
       "1                               n03481172 131 0 499 254   n03481172  \n",
       "2                                n02108000 38 0 464 280   n02108000  \n",
       "3                                n03109150 0 14 216 299   n03109150  \n",
       "4      n02119789 255 142 454 329 n02119789 44 21 322 ...  n02119789  \n",
       "...                                                  ...        ...  \n",
       "49995                           n03388043 103 0 279 472   n03388043  \n",
       "49996  n03089624 101 286 170 374 n03089624 236 282 30...  n03089624  \n",
       "49997                           n01518878 82 98 439 498   n01518878  \n",
       "49998                          n03874293 91 111 490 420   n03874293  \n",
       "49999                           n01855032 48 92 415 227   n01855032  \n",
       "\n",
       "[50000 rows x 3 columns]"
      ]
     },
     "execution_count": 76,
     "metadata": {},
     "output_type": "execute_result"
    }
   ],
   "source": [
    "df"
   ]
  },
  {
   "cell_type": "code",
   "execution_count": 83,
   "id": "2e217b7a",
   "metadata": {},
   "outputs": [],
   "source": [
    "data_dir = '/data/imagenet/ILSVRC/Data/CLS-LOC/val/'\n",
    "\n",
    "for i in range(len(df)):\n",
    "    label = df['class'][i]\n",
    "    \n",
    "    if not os.path.exists(os.path.join(data_dir, label)):\n",
    "        os.makedirs(os.path.join(data_dir, label))\n",
    "        \n",
    "    else:\n",
    "        shutil.move(os.path.join(data_dir, df['ImageId'][i])+\".JPEG\", os.path.join(data_dir, label, df['ImageId'][i])+\".JPEG\")\n",
    "        "
   ]
  },
  {
   "cell_type": "code",
   "execution_count": 4,
   "id": "352914a7",
   "metadata": {},
   "outputs": [],
   "source": [
    "train_dir = '/data/imagenet-100/train'\n",
    "normalize = transforms.Normalize(mean=[0.485, 0.456, 0.406],\n",
    "                                     std=[0.229, 0.224, 0.225])\n",
    "\n",
    "train_dataset = ImageFolder(\n",
    "        train_dir,\n",
    "        transform=transforms.Compose([\n",
    "            transforms.RandomResizedCrop(224),\n",
    "            transforms.RandomHorizontalFlip(),\n",
    "            transforms.ToTensor(),\n",
    "            normalize,\n",
    "        ]))"
   ]
  },
  {
   "cell_type": "code",
   "execution_count": 5,
   "id": "55f4e40f",
   "metadata": {
    "scrolled": true
   },
   "outputs": [
    {
     "data": {
      "text/plain": [
       "(tensor([[[ 0.3994,  0.3994,  0.4166,  ...,  0.7419,  0.7933,  0.8276],\n",
       "          [ 0.4166,  0.4166,  0.4166,  ...,  0.7762,  0.7933,  0.7933],\n",
       "          [ 0.4337,  0.4337,  0.4337,  ...,  0.8104,  0.7762,  0.7419],\n",
       "          ...,\n",
       "          [-0.1486, -0.1486, -0.1657,  ..., -0.0458, -0.0629, -0.0801],\n",
       "          [-0.2513, -0.2513, -0.2684,  ...,  0.0227, -0.0287, -0.0629],\n",
       "          [-0.3198, -0.3198, -0.3369,  ...,  0.0569, -0.0116, -0.0629]],\n",
       " \n",
       "         [[ 0.3803,  0.3803,  0.3978,  ...,  0.5203,  0.6078,  0.6604],\n",
       "          [ 0.3978,  0.3978,  0.3978,  ...,  0.5728,  0.6078,  0.6254],\n",
       "          [ 0.4153,  0.4153,  0.4153,  ...,  0.6429,  0.6078,  0.5728],\n",
       "          ...,\n",
       "          [-0.1450, -0.1450, -0.1450,  ..., -0.8102, -0.8277, -0.8452],\n",
       "          [-0.2325, -0.2325, -0.2500,  ..., -0.7402, -0.7927, -0.8277],\n",
       "          [-0.3025, -0.3025, -0.3200,  ..., -0.7052, -0.7752, -0.8277]],\n",
       " \n",
       "         [[ 0.3045,  0.3045,  0.3219,  ...,  0.3742,  0.4439,  0.4962],\n",
       "          [ 0.3219,  0.3219,  0.3219,  ...,  0.4091,  0.4439,  0.4614],\n",
       "          [ 0.3393,  0.3393,  0.3393,  ...,  0.4439,  0.4265,  0.4091],\n",
       "          ...,\n",
       "          [-0.0964, -0.1138, -0.1312,  ..., -1.0550, -1.0724, -1.0898],\n",
       "          [-0.2184, -0.2184, -0.2358,  ..., -0.9853, -1.0376, -1.0724],\n",
       "          [-0.2881, -0.2881, -0.3055,  ..., -0.9504, -1.0201, -1.0724]]]),\n",
       " 0)"
      ]
     },
     "execution_count": 5,
     "metadata": {},
     "output_type": "execute_result"
    }
   ],
   "source": [
    "train_dataset[0]"
   ]
  },
  {
   "cell_type": "code",
   "execution_count": 101,
   "id": "262ec8f3",
   "metadata": {},
   "outputs": [],
   "source": [
    "data_train = ImageFolderInstance(train_dir, transform=transforms.Compose([\n",
    "            transforms.RandomResizedCrop(224),\n",
    "            transforms.RandomHorizontalFlip(),\n",
    "            transforms.ToTensor(),\n",
    "            normalize,\n",
    "        ]), two_crop = True)"
   ]
  },
  {
   "cell_type": "code",
   "execution_count": 106,
   "id": "83c92f96",
   "metadata": {},
   "outputs": [
    {
     "data": {
      "text/plain": [
       "torch.Size([6, 224, 224])"
      ]
     },
     "execution_count": 106,
     "metadata": {},
     "output_type": "execute_result"
    }
   ],
   "source": [
    "data_train[0][0].shape"
   ]
  },
  {
   "cell_type": "code",
   "execution_count": 95,
   "id": "8336e708",
   "metadata": {},
   "outputs": [],
   "source": [
    "class ImageFolderInstance(datasets.ImageFolder):\n",
    "    \"\"\"Folder datasets which returns the index of the image as well\n",
    "    \"\"\"\n",
    "\n",
    "    def __init__(self, root, transform=None, target_transform=None, two_crop=False):\n",
    "        super(ImageFolderInstance, self).__init__(root, transform, target_transform)\n",
    "        self.two_crop = two_crop\n",
    "\n",
    "    def __getitem__(self, index):\n",
    "        \"\"\"\n",
    "        Args:\n",
    "            index (int): Index\n",
    "        Returns:\n",
    "            tuple: (image, target, index) where target is class_index of the target class.\n",
    "        \"\"\"\n",
    "        path, target = self.imgs[index]\n",
    "        image = self.loader(path)\n",
    "        if self.transform is not None:\n",
    "            img = self.transform(image)\n",
    "        if self.target_transform is not None:\n",
    "            target = self.target_transform(target)\n",
    "\n",
    "        if self.two_crop:\n",
    "            img2 = self.transform(image)\n",
    "            img = torch.cat([img, img2], dim=0)\n",
    "\n",
    "        return img, target, index"
   ]
  },
  {
   "cell_type": "code",
   "execution_count": 89,
   "id": "e4724d7b",
   "metadata": {},
   "outputs": [
    {
     "data": {
      "text/plain": [
       "126689"
      ]
     },
     "execution_count": 89,
     "metadata": {},
     "output_type": "execute_result"
    }
   ],
   "source": [
    "len(train_dataset)"
   ]
  },
  {
   "cell_type": "code",
   "execution_count": 91,
   "id": "a0551fc0",
   "metadata": {},
   "outputs": [],
   "source": [
    "val_dir = '/data/imagenet-100/val'\n",
    "normalize = transforms.Normalize(mean=[0.485, 0.456, 0.406],\n",
    "                                     std=[0.229, 0.224, 0.225])\n",
    "\n",
    "val_dataset = ImageFolder(\n",
    "        val_dir,\n",
    "        transform=transforms.Compose([\n",
    "            transforms.RandomResizedCrop(224),\n",
    "            transforms.RandomHorizontalFlip(),\n",
    "            transforms.ToTensor(),\n",
    "            normalize,\n",
    "        ]))"
   ]
  },
  {
   "cell_type": "code",
   "execution_count": 92,
   "id": "f488955b",
   "metadata": {},
   "outputs": [
    {
     "data": {
      "text/plain": [
       "4906"
      ]
     },
     "execution_count": 92,
     "metadata": {},
     "output_type": "execute_result"
    }
   ],
   "source": [
    "len(val_dataset)"
   ]
  },
  {
   "cell_type": "code",
   "execution_count": null,
   "id": "b6a0f867",
   "metadata": {},
   "outputs": [],
   "source": [
    "--source_folder: specify the ImageNet-1K data folder (e.g., /root/data/imagenet/train)\n",
    "--target_folder: specify the ImageNet-100 data folder (e.g., /root/data/imagenet-100/train)\n",
    "--target_class: specify the ImageNet-100 txt file with list of classes [default: 'IN100.txt']\n"
   ]
  },
  {
   "cell_type": "code",
   "execution_count": 84,
   "id": "cd967d4f",
   "metadata": {},
   "outputs": [],
   "source": [
    "source_folder = '/data/imagenet/ILSVRC/Data/CLS-LOC/val/'\n",
    "target_folder = '/data/imagenet-100/val'\n",
    "target_class = 'imagenet100.txt'"
   ]
  },
  {
   "cell_type": "code",
   "execution_count": 85,
   "id": "d42d6723",
   "metadata": {},
   "outputs": [],
   "source": [
    "f = []\n"
   ]
  },
  {
   "cell_type": "code",
   "execution_count": 86,
   "id": "c12af08a",
   "metadata": {},
   "outputs": [],
   "source": [
    "def generate_data(source_folder, target_folder, target_class):\n",
    "\n",
    "    txt_data = open(target_class, \"r\") \n",
    "    for ids, txt in enumerate(txt_data):\n",
    "        s = str(txt.split('\\n')[0])\n",
    "        f.append(s)\n",
    "\n",
    "    for ids, dirs in enumerate(os.listdir(source_folder)):\n",
    "        for tg_class in f:\n",
    "            if dirs == tg_class:\n",
    "                print('{} is transferred'.format(dirs))\n",
    "                shutil.copytree(os.path.join(source_folder,dirs), os.path.join(target_folder,dirs)) \n",
    "\n"
   ]
  },
  {
   "cell_type": "code",
   "execution_count": 87,
   "id": "887144f3",
   "metadata": {
    "scrolled": true
   },
   "outputs": [
    {
     "name": "stdout",
     "output_type": "stream",
     "text": [
      "n01980166 is transferred\n",
      "n01735189 is transferred\n",
      "n02259212 is transferred\n",
      "n02018207 is transferred\n",
      "n02107142 is transferred\n",
      "n01983481 is transferred\n",
      "n02087046 is transferred\n",
      "n01820546 is transferred\n",
      "n04238763 is transferred\n",
      "n02093428 is transferred\n",
      "n02116738 is transferred\n",
      "n02104029 is transferred\n",
      "n04229816 is transferred\n",
      "n03837869 is transferred\n",
      "n07836838 is transferred\n",
      "n07715103 is transferred\n",
      "n04435653 is transferred\n",
      "n02231487 is transferred\n",
      "n01692333 is transferred\n",
      "n04111531 is transferred\n",
      "n02108089 is transferred\n",
      "n13040303 is transferred\n",
      "n01729322 is transferred\n",
      "n04026417 is transferred\n",
      "n03642806 is transferred\n",
      "n02974003 is transferred\n",
      "n03764736 is transferred\n",
      "n02113799 is transferred\n",
      "n02009229 is transferred\n",
      "n02123045 is transferred\n",
      "n02396427 is transferred\n",
      "n02086240 is transferred\n",
      "n01978455 is transferred\n",
      "n07714571 is transferred\n",
      "n04067472 is transferred\n",
      "n03787032 is transferred\n",
      "n03637318 is transferred\n",
      "n02100583 is transferred\n",
      "n03379051 is transferred\n",
      "n01558993 is transferred\n",
      "n01773797 is transferred\n",
      "n03530642 is transferred\n",
      "n02089867 is transferred\n",
      "n03903868 is transferred\n",
      "n02114855 is transferred\n",
      "n01749939 is transferred\n",
      "n04592741 is transferred\n",
      "n02090622 is transferred\n",
      "n03017168 is transferred\n",
      "n13037406 is transferred\n",
      "n03492542 is transferred\n",
      "n03947888 is transferred\n",
      "n02109047 is transferred\n",
      "n04589890 is transferred\n",
      "n03794056 is transferred\n",
      "n03777754 is transferred\n",
      "n03775546 is transferred\n",
      "n07831146 is transferred\n",
      "n02106550 is transferred\n",
      "n02788148 is transferred\n",
      "n07753275 is transferred\n",
      "n02085620 is transferred\n",
      "n02804414 is transferred\n",
      "n02105505 is transferred\n",
      "n04418357 is transferred\n",
      "n02877765 is transferred\n",
      "n02701002 is transferred\n",
      "n04429376 is transferred\n",
      "n03424325 is transferred\n",
      "n04493381 is transferred\n",
      "n03259280 is transferred\n",
      "n02089973 is transferred\n",
      "n04517823 is transferred\n",
      "n04127249 is transferred\n",
      "n04136333 is transferred\n",
      "n02869837 is transferred\n",
      "n04485082 is transferred\n",
      "n02091831 is transferred\n",
      "n04336792 is transferred\n",
      "n02859443 is transferred\n",
      "n02172182 is transferred\n",
      "n03085013 is transferred\n",
      "n03891251 is transferred\n",
      "n03785016 is transferred\n",
      "n02138441 is transferred\n",
      "n02488291 is transferred\n",
      "n02326432 is transferred\n",
      "n03032252 is transferred\n",
      "n03062245 is transferred\n",
      "n01855672 is transferred\n",
      "n03594734 is transferred\n",
      "n02086910 is transferred\n",
      "n03930630 is transferred\n",
      "n02483362 is transferred\n",
      "n03494278 is transferred\n",
      "n02113978 is transferred\n",
      "n02099849 is transferred\n",
      "n04099969 is transferred\n",
      "n03584829 is transferred\n",
      "n02119022 is transferred\n"
     ]
    }
   ],
   "source": [
    "generate_data(source_folder, target_folder, target_class)"
   ]
  },
  {
   "cell_type": "code",
   "execution_count": null,
   "id": "fdfe4c29",
   "metadata": {},
   "outputs": [],
   "source": []
  },
  {
   "cell_type": "code",
   "execution_count": 9,
   "id": "f06d4508",
   "metadata": {},
   "outputs": [],
   "source": [
    "import argparse\n",
    "import os\n",
    "import pandas\n",
    "import shutil\n",
    "import sys\n",
    "\n",
    "import numpy as np\n",
    "import torch\n",
    "import torch.optim as optim\n",
    "import torch.nn as nn\n",
    "import torch.nn.functional as F\n",
    "from torch.utils.data import DataLoader\n",
    "from tqdm import tqdm\n",
    "\n",
    "import utils\n",
    "from model import Model, Image_Model"
   ]
  },
  {
   "cell_type": "code",
   "execution_count": 10,
   "id": "4e146476",
   "metadata": {},
   "outputs": [],
   "source": [
    "import utils"
   ]
  },
  {
   "cell_type": "code",
   "execution_count": 11,
   "id": "74820906",
   "metadata": {},
   "outputs": [],
   "source": [
    "batch_size = 128\n",
    "train_data, memory_data, test_data = utils.get_dataset('imagenet')\n",
    "\n",
    "train_loader = DataLoader(train_data, batch_size=batch_size, shuffle=True, num_workers=24, pin_memory=True, drop_last=True)\n",
    "memory_loader = DataLoader(memory_data, batch_size=batch_size, shuffle=False, num_workers=24, pin_memory=True)\n",
    "test_loader = DataLoader(test_data, batch_size=batch_size, shuffle=False, num_workers=24, pin_memory=True)\n",
    "\n"
   ]
  },
  {
   "cell_type": "code",
   "execution_count": 13,
   "id": "90ab364e",
   "metadata": {},
   "outputs": [
    {
     "data": {
      "text/plain": [
       "['n01558993',\n",
       " 'n01692333',\n",
       " 'n01729322',\n",
       " 'n01735189',\n",
       " 'n01749939',\n",
       " 'n01773797',\n",
       " 'n01820546',\n",
       " 'n01855672',\n",
       " 'n01978455',\n",
       " 'n01980166',\n",
       " 'n01983481',\n",
       " 'n02009229',\n",
       " 'n02018207',\n",
       " 'n02085620',\n",
       " 'n02086240',\n",
       " 'n02086910',\n",
       " 'n02087046',\n",
       " 'n02089867',\n",
       " 'n02089973',\n",
       " 'n02090622',\n",
       " 'n02091831',\n",
       " 'n02093428',\n",
       " 'n02099849',\n",
       " 'n02100583',\n",
       " 'n02104029',\n",
       " 'n02105505',\n",
       " 'n02106550',\n",
       " 'n02107142',\n",
       " 'n02108089',\n",
       " 'n02109047',\n",
       " 'n02113799',\n",
       " 'n02113978',\n",
       " 'n02114855',\n",
       " 'n02116738',\n",
       " 'n02119022',\n",
       " 'n02123045',\n",
       " 'n02138441',\n",
       " 'n02172182',\n",
       " 'n02231487',\n",
       " 'n02259212',\n",
       " 'n02326432',\n",
       " 'n02396427',\n",
       " 'n02483362',\n",
       " 'n02488291',\n",
       " 'n02701002',\n",
       " 'n02788148',\n",
       " 'n02804414',\n",
       " 'n02859443',\n",
       " 'n02869837',\n",
       " 'n02877765',\n",
       " 'n02974003',\n",
       " 'n03017168',\n",
       " 'n03032252',\n",
       " 'n03062245',\n",
       " 'n03085013',\n",
       " 'n03259280',\n",
       " 'n03379051',\n",
       " 'n03424325',\n",
       " 'n03492542',\n",
       " 'n03494278',\n",
       " 'n03530642',\n",
       " 'n03584829',\n",
       " 'n03594734',\n",
       " 'n03637318',\n",
       " 'n03642806',\n",
       " 'n03764736',\n",
       " 'n03775546',\n",
       " 'n03777754',\n",
       " 'n03785016',\n",
       " 'n03787032',\n",
       " 'n03794056',\n",
       " 'n03837869',\n",
       " 'n03891251',\n",
       " 'n03903868',\n",
       " 'n03930630',\n",
       " 'n03947888',\n",
       " 'n04026417',\n",
       " 'n04067472',\n",
       " 'n04099969',\n",
       " 'n04111531',\n",
       " 'n04127249',\n",
       " 'n04136333',\n",
       " 'n04229816',\n",
       " 'n04238763',\n",
       " 'n04336792',\n",
       " 'n04418357',\n",
       " 'n04429376',\n",
       " 'n04435653',\n",
       " 'n04485082',\n",
       " 'n04493381',\n",
       " 'n04517823',\n",
       " 'n04589890',\n",
       " 'n04592741',\n",
       " 'n07714571',\n",
       " 'n07715103',\n",
       " 'n07753275',\n",
       " 'n07831146',\n",
       " 'n07836838',\n",
       " 'n13037406',\n",
       " 'n13040303']"
      ]
     },
     "execution_count": 13,
     "metadata": {},
     "output_type": "execute_result"
    }
   ],
   "source": [
    "memory_loader.dataset.classes"
   ]
  },
  {
   "cell_type": "code",
   "execution_count": 114,
   "id": "b46e670d",
   "metadata": {},
   "outputs": [],
   "source": [
    "model_d = Model(256).cuda()\n",
    "model_d = nn.DataParallel(model_d)\n",
    "\n",
    "#     model_path = '../results/cifar10/wcl/no_orient/cifar10_model_d_256_0.1_0.0001_475.pth'\n",
    "#     state_dict = torch.load(model_path)\n",
    "#     model_d.load_state_dict(state_dict)\n",
    "\n",
    "model_b = Model(256).cuda()\n",
    "model_b = nn.DataParallel(model_b)"
   ]
  },
  {
   "cell_type": "code",
   "execution_count": 115,
   "id": "478da638",
   "metadata": {},
   "outputs": [],
   "source": [
    "x1, x2, tar = iter(train_loader).next()"
   ]
  },
  {
   "cell_type": "code",
   "execution_count": 116,
   "id": "522a79bf",
   "metadata": {},
   "outputs": [],
   "source": [
    "x1, x2 = x1.cuda(), x2.cuda()"
   ]
  },
  {
   "cell_type": "code",
   "execution_count": 118,
   "id": "90a68d52",
   "metadata": {},
   "outputs": [
    {
     "data": {
      "text/plain": [
       "torch.Size([128, 3, 224, 224])"
      ]
     },
     "execution_count": 118,
     "metadata": {},
     "output_type": "execute_result"
    }
   ],
   "source": [
    "x1.shape"
   ]
  },
  {
   "cell_type": "code",
   "execution_count": 1,
   "id": "d524b4a7",
   "metadata": {},
   "outputs": [
    {
     "ename": "NameError",
     "evalue": "name 'data_tra' is not defined",
     "output_type": "error",
     "traceback": [
      "\u001b[0;31m---------------------------------------------------------------------------\u001b[0m",
      "\u001b[0;31mNameError\u001b[0m                                 Traceback (most recent call last)",
      "\u001b[0;32m/tmp/ipykernel_3556575/2643380699.py\u001b[0m in \u001b[0;36m<module>\u001b[0;34m\u001b[0m\n\u001b[0;32m----> 1\u001b[0;31m \u001b[0mdata_tra\u001b[0m\u001b[0;34m\u001b[0m\u001b[0;34m\u001b[0m\u001b[0m\n\u001b[0m",
      "\u001b[0;31mNameError\u001b[0m: name 'data_tra' is not defined"
     ]
    }
   ],
   "source": [
    "data_tra"
   ]
  },
  {
   "cell_type": "code",
   "execution_count": 117,
   "id": "d0633fd7",
   "metadata": {},
   "outputs": [
    {
     "ename": "RuntimeError",
     "evalue": "Caught RuntimeError in replica 0 on device 0.\nOriginal Traceback (most recent call last):\n  File \"/home/taeuk/anaconda3/envs/main/lib/python3.9/site-packages/torch/nn/parallel/parallel_apply.py\", line 61, in _worker\n    output = module(*input, **kwargs)\n  File \"/home/taeuk/anaconda3/envs/main/lib/python3.9/site-packages/torch/nn/modules/module.py\", line 1102, in _call_impl\n    return forward_call(*input, **kwargs)\n  File \"/home/taeuk/network/git/HCL/image/model.py\", line 25, in forward\n    x = self.f(x)\n  File \"/home/taeuk/anaconda3/envs/main/lib/python3.9/site-packages/torch/nn/modules/module.py\", line 1102, in _call_impl\n    return forward_call(*input, **kwargs)\n  File \"/home/taeuk/anaconda3/envs/main/lib/python3.9/site-packages/torch/nn/modules/container.py\", line 141, in forward\n    input = module(input)\n  File \"/home/taeuk/anaconda3/envs/main/lib/python3.9/site-packages/torch/nn/modules/module.py\", line 1102, in _call_impl\n    return forward_call(*input, **kwargs)\n  File \"/home/taeuk/anaconda3/envs/main/lib/python3.9/site-packages/torch/nn/modules/container.py\", line 141, in forward\n    input = module(input)\n  File \"/home/taeuk/anaconda3/envs/main/lib/python3.9/site-packages/torch/nn/modules/module.py\", line 1102, in _call_impl\n    return forward_call(*input, **kwargs)\n  File \"/home/taeuk/anaconda3/envs/main/lib/python3.9/site-packages/torchvision/models/resnet.py\", line 132, in forward\n    out = self.conv3(out)\n  File \"/home/taeuk/anaconda3/envs/main/lib/python3.9/site-packages/torch/nn/modules/module.py\", line 1102, in _call_impl\n    return forward_call(*input, **kwargs)\n  File \"/home/taeuk/anaconda3/envs/main/lib/python3.9/site-packages/torch/nn/modules/conv.py\", line 446, in forward\n    return self._conv_forward(input, self.weight, self.bias)\n  File \"/home/taeuk/anaconda3/envs/main/lib/python3.9/site-packages/torch/nn/modules/conv.py\", line 442, in _conv_forward\n    return F.conv2d(input, weight, bias, self.stride,\nRuntimeError: CUDA out of memory. Tried to allocate 784.00 MiB (GPU 0; 23.70 GiB total capacity; 21.39 GiB already allocated; 228.50 MiB free; 21.48 GiB reserved in total by PyTorch) If reserved memory is >> allocated memory try setting max_split_size_mb to avoid fragmentation.  See documentation for Memory Management and PYTORCH_CUDA_ALLOC_CONF\n",
     "output_type": "error",
     "traceback": [
      "\u001b[0;31m---------------------------------------------------------------------------\u001b[0m",
      "\u001b[0;31mRuntimeError\u001b[0m                              Traceback (most recent call last)",
      "\u001b[0;32m/tmp/ipykernel_2119060/3296364984.py\u001b[0m in \u001b[0;36m<module>\u001b[0;34m\u001b[0m\n\u001b[0;32m----> 1\u001b[0;31m \u001b[0mmodel_d\u001b[0m\u001b[0;34m(\u001b[0m\u001b[0mx1\u001b[0m\u001b[0;34m)\u001b[0m\u001b[0;34m\u001b[0m\u001b[0;34m\u001b[0m\u001b[0m\n\u001b[0m",
      "\u001b[0;32m~/anaconda3/envs/main/lib/python3.9/site-packages/torch/nn/modules/module.py\u001b[0m in \u001b[0;36m_call_impl\u001b[0;34m(self, *input, **kwargs)\u001b[0m\n\u001b[1;32m   1100\u001b[0m         if not (self._backward_hooks or self._forward_hooks or self._forward_pre_hooks or _global_backward_hooks\n\u001b[1;32m   1101\u001b[0m                 or _global_forward_hooks or _global_forward_pre_hooks):\n\u001b[0;32m-> 1102\u001b[0;31m             \u001b[0;32mreturn\u001b[0m \u001b[0mforward_call\u001b[0m\u001b[0;34m(\u001b[0m\u001b[0;34m*\u001b[0m\u001b[0minput\u001b[0m\u001b[0;34m,\u001b[0m \u001b[0;34m**\u001b[0m\u001b[0mkwargs\u001b[0m\u001b[0;34m)\u001b[0m\u001b[0;34m\u001b[0m\u001b[0;34m\u001b[0m\u001b[0m\n\u001b[0m\u001b[1;32m   1103\u001b[0m         \u001b[0;31m# Do not call functions when jit is used\u001b[0m\u001b[0;34m\u001b[0m\u001b[0;34m\u001b[0m\u001b[0m\n\u001b[1;32m   1104\u001b[0m         \u001b[0mfull_backward_hooks\u001b[0m\u001b[0;34m,\u001b[0m \u001b[0mnon_full_backward_hooks\u001b[0m \u001b[0;34m=\u001b[0m \u001b[0;34m[\u001b[0m\u001b[0;34m]\u001b[0m\u001b[0;34m,\u001b[0m \u001b[0;34m[\u001b[0m\u001b[0;34m]\u001b[0m\u001b[0;34m\u001b[0m\u001b[0;34m\u001b[0m\u001b[0m\n",
      "\u001b[0;32m~/anaconda3/envs/main/lib/python3.9/site-packages/torch/nn/parallel/data_parallel.py\u001b[0m in \u001b[0;36mforward\u001b[0;34m(self, *inputs, **kwargs)\u001b[0m\n\u001b[1;32m    166\u001b[0m                 \u001b[0;32mreturn\u001b[0m \u001b[0mself\u001b[0m\u001b[0;34m.\u001b[0m\u001b[0mmodule\u001b[0m\u001b[0;34m(\u001b[0m\u001b[0;34m*\u001b[0m\u001b[0minputs\u001b[0m\u001b[0;34m[\u001b[0m\u001b[0;36m0\u001b[0m\u001b[0;34m]\u001b[0m\u001b[0;34m,\u001b[0m \u001b[0;34m**\u001b[0m\u001b[0mkwargs\u001b[0m\u001b[0;34m[\u001b[0m\u001b[0;36m0\u001b[0m\u001b[0;34m]\u001b[0m\u001b[0;34m)\u001b[0m\u001b[0;34m\u001b[0m\u001b[0;34m\u001b[0m\u001b[0m\n\u001b[1;32m    167\u001b[0m             \u001b[0mreplicas\u001b[0m \u001b[0;34m=\u001b[0m \u001b[0mself\u001b[0m\u001b[0;34m.\u001b[0m\u001b[0mreplicate\u001b[0m\u001b[0;34m(\u001b[0m\u001b[0mself\u001b[0m\u001b[0;34m.\u001b[0m\u001b[0mmodule\u001b[0m\u001b[0;34m,\u001b[0m \u001b[0mself\u001b[0m\u001b[0;34m.\u001b[0m\u001b[0mdevice_ids\u001b[0m\u001b[0;34m[\u001b[0m\u001b[0;34m:\u001b[0m\u001b[0mlen\u001b[0m\u001b[0;34m(\u001b[0m\u001b[0minputs\u001b[0m\u001b[0;34m)\u001b[0m\u001b[0;34m]\u001b[0m\u001b[0;34m)\u001b[0m\u001b[0;34m\u001b[0m\u001b[0;34m\u001b[0m\u001b[0m\n\u001b[0;32m--> 168\u001b[0;31m             \u001b[0moutputs\u001b[0m \u001b[0;34m=\u001b[0m \u001b[0mself\u001b[0m\u001b[0;34m.\u001b[0m\u001b[0mparallel_apply\u001b[0m\u001b[0;34m(\u001b[0m\u001b[0mreplicas\u001b[0m\u001b[0;34m,\u001b[0m \u001b[0minputs\u001b[0m\u001b[0;34m,\u001b[0m \u001b[0mkwargs\u001b[0m\u001b[0;34m)\u001b[0m\u001b[0;34m\u001b[0m\u001b[0;34m\u001b[0m\u001b[0m\n\u001b[0m\u001b[1;32m    169\u001b[0m             \u001b[0;32mreturn\u001b[0m \u001b[0mself\u001b[0m\u001b[0;34m.\u001b[0m\u001b[0mgather\u001b[0m\u001b[0;34m(\u001b[0m\u001b[0moutputs\u001b[0m\u001b[0;34m,\u001b[0m \u001b[0mself\u001b[0m\u001b[0;34m.\u001b[0m\u001b[0moutput_device\u001b[0m\u001b[0;34m)\u001b[0m\u001b[0;34m\u001b[0m\u001b[0;34m\u001b[0m\u001b[0m\n\u001b[1;32m    170\u001b[0m \u001b[0;34m\u001b[0m\u001b[0m\n",
      "\u001b[0;32m~/anaconda3/envs/main/lib/python3.9/site-packages/torch/nn/parallel/data_parallel.py\u001b[0m in \u001b[0;36mparallel_apply\u001b[0;34m(self, replicas, inputs, kwargs)\u001b[0m\n\u001b[1;32m    176\u001b[0m \u001b[0;34m\u001b[0m\u001b[0m\n\u001b[1;32m    177\u001b[0m     \u001b[0;32mdef\u001b[0m \u001b[0mparallel_apply\u001b[0m\u001b[0;34m(\u001b[0m\u001b[0mself\u001b[0m\u001b[0;34m,\u001b[0m \u001b[0mreplicas\u001b[0m\u001b[0;34m,\u001b[0m \u001b[0minputs\u001b[0m\u001b[0;34m,\u001b[0m \u001b[0mkwargs\u001b[0m\u001b[0;34m)\u001b[0m\u001b[0;34m:\u001b[0m\u001b[0;34m\u001b[0m\u001b[0;34m\u001b[0m\u001b[0m\n\u001b[0;32m--> 178\u001b[0;31m         \u001b[0;32mreturn\u001b[0m \u001b[0mparallel_apply\u001b[0m\u001b[0;34m(\u001b[0m\u001b[0mreplicas\u001b[0m\u001b[0;34m,\u001b[0m \u001b[0minputs\u001b[0m\u001b[0;34m,\u001b[0m \u001b[0mkwargs\u001b[0m\u001b[0;34m,\u001b[0m \u001b[0mself\u001b[0m\u001b[0;34m.\u001b[0m\u001b[0mdevice_ids\u001b[0m\u001b[0;34m[\u001b[0m\u001b[0;34m:\u001b[0m\u001b[0mlen\u001b[0m\u001b[0;34m(\u001b[0m\u001b[0mreplicas\u001b[0m\u001b[0;34m)\u001b[0m\u001b[0;34m]\u001b[0m\u001b[0;34m)\u001b[0m\u001b[0;34m\u001b[0m\u001b[0;34m\u001b[0m\u001b[0m\n\u001b[0m\u001b[1;32m    179\u001b[0m \u001b[0;34m\u001b[0m\u001b[0m\n\u001b[1;32m    180\u001b[0m     \u001b[0;32mdef\u001b[0m \u001b[0mgather\u001b[0m\u001b[0;34m(\u001b[0m\u001b[0mself\u001b[0m\u001b[0;34m,\u001b[0m \u001b[0moutputs\u001b[0m\u001b[0;34m,\u001b[0m \u001b[0moutput_device\u001b[0m\u001b[0;34m)\u001b[0m\u001b[0;34m:\u001b[0m\u001b[0;34m\u001b[0m\u001b[0;34m\u001b[0m\u001b[0m\n",
      "\u001b[0;32m~/anaconda3/envs/main/lib/python3.9/site-packages/torch/nn/parallel/parallel_apply.py\u001b[0m in \u001b[0;36mparallel_apply\u001b[0;34m(modules, inputs, kwargs_tup, devices)\u001b[0m\n\u001b[1;32m     84\u001b[0m         \u001b[0moutput\u001b[0m \u001b[0;34m=\u001b[0m \u001b[0mresults\u001b[0m\u001b[0;34m[\u001b[0m\u001b[0mi\u001b[0m\u001b[0;34m]\u001b[0m\u001b[0;34m\u001b[0m\u001b[0;34m\u001b[0m\u001b[0m\n\u001b[1;32m     85\u001b[0m         \u001b[0;32mif\u001b[0m \u001b[0misinstance\u001b[0m\u001b[0;34m(\u001b[0m\u001b[0moutput\u001b[0m\u001b[0;34m,\u001b[0m \u001b[0mExceptionWrapper\u001b[0m\u001b[0;34m)\u001b[0m\u001b[0;34m:\u001b[0m\u001b[0;34m\u001b[0m\u001b[0;34m\u001b[0m\u001b[0m\n\u001b[0;32m---> 86\u001b[0;31m             \u001b[0moutput\u001b[0m\u001b[0;34m.\u001b[0m\u001b[0mreraise\u001b[0m\u001b[0;34m(\u001b[0m\u001b[0;34m)\u001b[0m\u001b[0;34m\u001b[0m\u001b[0;34m\u001b[0m\u001b[0m\n\u001b[0m\u001b[1;32m     87\u001b[0m         \u001b[0moutputs\u001b[0m\u001b[0;34m.\u001b[0m\u001b[0mappend\u001b[0m\u001b[0;34m(\u001b[0m\u001b[0moutput\u001b[0m\u001b[0;34m)\u001b[0m\u001b[0;34m\u001b[0m\u001b[0;34m\u001b[0m\u001b[0m\n\u001b[1;32m     88\u001b[0m     \u001b[0;32mreturn\u001b[0m \u001b[0moutputs\u001b[0m\u001b[0;34m\u001b[0m\u001b[0;34m\u001b[0m\u001b[0m\n",
      "\u001b[0;32m~/anaconda3/envs/main/lib/python3.9/site-packages/torch/_utils.py\u001b[0m in \u001b[0;36mreraise\u001b[0;34m(self)\u001b[0m\n\u001b[1;32m    432\u001b[0m             \u001b[0;31m# instantiate since we don't know how to\u001b[0m\u001b[0;34m\u001b[0m\u001b[0;34m\u001b[0m\u001b[0m\n\u001b[1;32m    433\u001b[0m             \u001b[0;32mraise\u001b[0m \u001b[0mRuntimeError\u001b[0m\u001b[0;34m(\u001b[0m\u001b[0mmsg\u001b[0m\u001b[0;34m)\u001b[0m \u001b[0;32mfrom\u001b[0m \u001b[0;32mNone\u001b[0m\u001b[0;34m\u001b[0m\u001b[0;34m\u001b[0m\u001b[0m\n\u001b[0;32m--> 434\u001b[0;31m         \u001b[0;32mraise\u001b[0m \u001b[0mexception\u001b[0m\u001b[0;34m\u001b[0m\u001b[0;34m\u001b[0m\u001b[0m\n\u001b[0m\u001b[1;32m    435\u001b[0m \u001b[0;34m\u001b[0m\u001b[0m\n\u001b[1;32m    436\u001b[0m \u001b[0;34m\u001b[0m\u001b[0m\n",
      "\u001b[0;31mRuntimeError\u001b[0m: Caught RuntimeError in replica 0 on device 0.\nOriginal Traceback (most recent call last):\n  File \"/home/taeuk/anaconda3/envs/main/lib/python3.9/site-packages/torch/nn/parallel/parallel_apply.py\", line 61, in _worker\n    output = module(*input, **kwargs)\n  File \"/home/taeuk/anaconda3/envs/main/lib/python3.9/site-packages/torch/nn/modules/module.py\", line 1102, in _call_impl\n    return forward_call(*input, **kwargs)\n  File \"/home/taeuk/network/git/HCL/image/model.py\", line 25, in forward\n    x = self.f(x)\n  File \"/home/taeuk/anaconda3/envs/main/lib/python3.9/site-packages/torch/nn/modules/module.py\", line 1102, in _call_impl\n    return forward_call(*input, **kwargs)\n  File \"/home/taeuk/anaconda3/envs/main/lib/python3.9/site-packages/torch/nn/modules/container.py\", line 141, in forward\n    input = module(input)\n  File \"/home/taeuk/anaconda3/envs/main/lib/python3.9/site-packages/torch/nn/modules/module.py\", line 1102, in _call_impl\n    return forward_call(*input, **kwargs)\n  File \"/home/taeuk/anaconda3/envs/main/lib/python3.9/site-packages/torch/nn/modules/container.py\", line 141, in forward\n    input = module(input)\n  File \"/home/taeuk/anaconda3/envs/main/lib/python3.9/site-packages/torch/nn/modules/module.py\", line 1102, in _call_impl\n    return forward_call(*input, **kwargs)\n  File \"/home/taeuk/anaconda3/envs/main/lib/python3.9/site-packages/torchvision/models/resnet.py\", line 132, in forward\n    out = self.conv3(out)\n  File \"/home/taeuk/anaconda3/envs/main/lib/python3.9/site-packages/torch/nn/modules/module.py\", line 1102, in _call_impl\n    return forward_call(*input, **kwargs)\n  File \"/home/taeuk/anaconda3/envs/main/lib/python3.9/site-packages/torch/nn/modules/conv.py\", line 446, in forward\n    return self._conv_forward(input, self.weight, self.bias)\n  File \"/home/taeuk/anaconda3/envs/main/lib/python3.9/site-packages/torch/nn/modules/conv.py\", line 442, in _conv_forward\n    return F.conv2d(input, weight, bias, self.stride,\nRuntimeError: CUDA out of memory. Tried to allocate 784.00 MiB (GPU 0; 23.70 GiB total capacity; 21.39 GiB already allocated; 228.50 MiB free; 21.48 GiB reserved in total by PyTorch) If reserved memory is >> allocated memory try setting max_split_size_mb to avoid fragmentation.  See documentation for Memory Management and PYTORCH_CUDA_ALLOC_CONF\n"
     ]
    }
   ],
   "source": [
    "model_d(x1)"
   ]
  },
  {
   "cell_type": "code",
   "execution_count": null,
   "id": "535dae5f",
   "metadata": {},
   "outputs": [],
   "source": []
  }
 ],
 "metadata": {
  "kernelspec": {
   "display_name": "Python [conda env:main]",
   "language": "python",
   "name": "conda-env-main-py"
  },
  "language_info": {
   "codemirror_mode": {
    "name": "ipython",
    "version": 3
   },
   "file_extension": ".py",
   "mimetype": "text/x-python",
   "name": "python",
   "nbconvert_exporter": "python",
   "pygments_lexer": "ipython3",
   "version": "3.9.7"
  }
 },
 "nbformat": 4,
 "nbformat_minor": 5
}

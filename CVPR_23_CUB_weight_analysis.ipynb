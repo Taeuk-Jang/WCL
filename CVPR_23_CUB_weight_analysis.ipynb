{
 "cells": [
  {
   "cell_type": "code",
   "execution_count": 1,
   "id": "92775e17",
   "metadata": {},
   "outputs": [
    {
     "data": {
      "text/html": [
       "<style>.container { width:95% !important; }<\\style>"
      ],
      "text/plain": [
       "<IPython.core.display.HTML object>"
      ]
     },
     "metadata": {},
     "output_type": "display_data"
    }
   ],
   "source": [
    "%load_ext autoreload\n",
    "%autoreload 2\n",
    "\n",
    "\n",
    "from IPython.core.display import display, HTML\n",
    "display(HTML(\"<style>.container { width:95% !important; }<\\style>\"))\n",
    "import argparse\n",
    "import os\n",
    "import pandas as pd\n",
    "\n",
    "import numpy as np\n",
    "from sklearn.manifold import TSNE\n",
    "import matplotlib.pyplot as plt\n",
    "\n",
    "from PIL import Image\n",
    "import tqdm\n"
   ]
  },
  {
   "cell_type": "code",
   "execution_count": 2,
   "id": "55d473b2",
   "metadata": {},
   "outputs": [],
   "source": [
    "os.environ['CUDA_VISIBLE_DEVICES'] = '1,2'"
   ]
  },
  {
   "cell_type": "code",
   "execution_count": 3,
   "id": "f5b42773",
   "metadata": {},
   "outputs": [],
   "source": [
    "import torch\n",
    "import torchvision.transforms as transforms\n",
    "from torch.utils.data import Dataset, DataLoader\n",
    "from torchvision import models\n",
    "from torchvision import datasets, models, transforms\n",
    "import torch.nn as nn\n",
    "from torch.nn import functional as F\n",
    "import torch.optim as optim\n",
    "from collections import OrderedDict\n",
    "from torch.nn.functional import one_hot as one_hot\n",
    "import torch.utils.data as data\n",
    "import utils\n",
    "from model import * \n"
   ]
  },
  {
   "cell_type": "code",
   "execution_count": 4,
   "id": "ebc0b969",
   "metadata": {},
   "outputs": [],
   "source": [
    "def get_negative_mask(batch_size):\n",
    "    negative_mask = torch.ones((batch_size, 1 * batch_size), dtype=bool)\n",
    "    for i in range(batch_size):\n",
    "        negative_mask[i, i] = 0\n",
    "#         negative_mask[i, i + batch_size] = 0\n",
    "#     negative_mask = torch.cat((negative_mask, negative_mask), 0)\n",
    "    return negative_mask\n",
    "\n",
    "def triplet(out_1,out_2,tau_plus,batch_size,temperature, debias = True):\n",
    "    N = batch_size * 2 - 2\n",
    "    out = torch.cat([out_1, out_2], dim=0) # 2 * bs x fs\n",
    "    s = torch.pow(out.unsqueeze(0) - out.unsqueeze(1), 2).sum(-1) # 2 * bs x 2 * bs\n",
    "    mask = get_negative_mask(batch_size).to(device)\n",
    "    \n",
    "    if debias:\n",
    "        s = s.masked_select(mask).view(2 * batch_size, -1)  # (2 * bs, 2 * bs - 2) : subtract self and its augment\n",
    "\n",
    "        pos = (torch.pow(out_1 - out_2, 2))\n",
    "        pos = torch.cat([pos, pos], dim=0).sum(-1)\n",
    "\n",
    "        neg = (-tau_plus * N * pos + s.sum(-1)) / (1 - tau_plus)\n",
    "\n",
    "    else:\n",
    "        neg = s.masked_select(mask).view(2 * batch_size, -1)  # (2 * bs, 2 * bs - 2) : subtract self and its augment\n",
    "\n",
    "        pos = (torch.pow(out_1 - out_2, 2))\n",
    "        pos = torch.cat([pos, pos], dim=0).sum(-1)\n",
    "\n",
    "    return (pos - neg).mean()\n",
    "\n",
    "def W(out_d, out_b, batch_size):\n",
    "    mask = get_negative_mask(batch_size).to(device)\n",
    "    \n",
    "#     difficulty by cosine similarity\n",
    "    s_d = torch.exp(torch.mm(out_d, out_d.t().contiguous()) / temperature)\n",
    "    s_d = s_d.masked_select(mask).view(1 * batch_size, -1) # (2 * bs, 2 * bs - 2) : subtract self and its augment\n",
    "    s_d = F.normalize(s_d, dim = -1)\n",
    "    \n",
    "    s_b = torch.exp(torch.mm(out_b, out_b.t().contiguous()) / temperature)\n",
    "    s_b = s_b.masked_select(mask).view(1 * batch_size, -1) # (2 * bs, 2 * bs - 2) : subtract self and its augment\n",
    "    s_b = F.normalize(s_b, dim = -1)\n",
    "    \n",
    "    weight = 1 + s_d / (s_b + s_d + 1e-6)\n",
    "#     print(weight)\n",
    "    if np.isnan(weight.sum().item()):\n",
    "        print('weight NaN')\n",
    "        \n",
    "    return weight.detach()\n",
    "\n",
    "def criterion(out_1_d, out_2_d, out_1_b, out_2_b, tau_plus, batch_size, beta, temperature):\n",
    "    # neg score\n",
    "    out = torch.cat([out_1_d, out_2_d], dim=0)\n",
    "    out_b = torch.cat([out_1_b, out_2_b], dim=0)\n",
    "    neg = torch.exp(torch.mm(out, out.t().contiguous()) / temperature)\n",
    "    mask = get_negative_mask(batch_size).to(device)\n",
    "    neg = neg.masked_select(mask).view(2 * batch_size, -1) # (2 * bs, bs - 2) : subtract self and its augment\n",
    "\n",
    "    # pos score\n",
    "    pos = torch.exp(torch.sum(out_1_d * out_2_d, dim=-1) / temperature)\n",
    "    pos = torch.cat([pos, pos], dim=0)\n",
    "    \n",
    "    weight = W(out, out_b, batch_size) # (2 * bs, bs - 2)\n",
    "\n",
    "    # negative samples similarity scoring\n",
    "    N = batch_size * 2 - 2\n",
    "#         imp = (beta* neg.log()).exp()\n",
    "#         reweight_neg = (imp*neg).sum(dim = -1) / imp.mean(dim = -1)\n",
    "    reweight_neg = weight * neg\n",
    "\n",
    "    Ng = (-tau_plus * N * pos + reweight_neg.sum(dim = -1)) / (1 - tau_plus)\n",
    "    # constrain (optional)\n",
    "    Ng = torch.clamp(Ng, min = N * np.e**(-1 / temperature))\n",
    "\n",
    "    # contrastive loss\n",
    "    loss = (-torch.log(pos / (pos + Ng) )).mean()\n",
    "\n",
    "    return loss"
   ]
  },
  {
   "cell_type": "code",
   "execution_count": 5,
   "id": "90619a2f",
   "metadata": {},
   "outputs": [],
   "source": [
    "batch_size = 128\n",
    "device = 'cuda:0'\n",
    "tau_plus = 0.1\n",
    "dataset_name = 'cub'\n",
    "beta =0.9\n",
    "estimator = 'hard'\n",
    "temperature =0.7\n",
    "epochs = 400\n",
    "\n"
   ]
  },
  {
   "cell_type": "code",
   "execution_count": 6,
   "id": "24251ab0",
   "metadata": {
    "scrolled": true
   },
   "outputs": [],
   "source": [
    "model_d = Image_Model().cuda()\n",
    "model_d = nn.DataParallel(model_d)\n",
    "model_d.load_state_dict(torch.load(os.path.join(\"../results\", dataset_name, 'wcl', 'no_orient_new/cub_model_d_256_0.1_0.3_0.001_100.pth')))\n",
    "model_d.eval();\n",
    "\n",
    "model_b = Image_Model().cuda()\n",
    "model_b = nn.DataParallel(model_b)\n",
    "model_b.load_state_dict(torch.load(os.path.join(\"../results\", dataset_name, 'wcl', 'no_orient_new/cub_model_b_256_0.1_0.3_0.001_100.pth')))\n",
    "model_b.eval();\n"
   ]
  },
  {
   "cell_type": "code",
   "execution_count": null,
   "id": "332a80d0",
   "metadata": {},
   "outputs": [],
   "source": []
  },
  {
   "cell_type": "code",
   "execution_count": 7,
   "id": "b8141649",
   "metadata": {},
   "outputs": [],
   "source": [
    "train_data, memory_data, test_data = utils.get_dataset('cub', root='../data', pair = False)\n",
    "\n",
    "train_loader = DataLoader(train_data, batch_size=batch_size, shuffle=False, num_workers=12, pin_memory=True, drop_last=True)\n",
    "memory_loader = DataLoader(memory_data, batch_size=batch_size, shuffle=False, num_workers=12, pin_memory=True)\n",
    "test_loader = DataLoader(test_data, batch_size=batch_size, shuffle=False, num_workers=12, pin_memory=True)\n",
    "\n",
    "k = 200\n",
    "c = len(memory_data.classes)"
   ]
  },
  {
   "cell_type": "code",
   "execution_count": 8,
   "id": "67dcb74c",
   "metadata": {},
   "outputs": [
    {
     "data": {
      "text/plain": [
       "'\\ny = 0: landbird\\ny = 1: waterbird\\n\\ns = 0: land background\\ns = 1: water background\\n\\n\\nclass = 0 landbird on land\\nclass = 1 landbird on water\\nclass = 2 waterbird on land\\nclass = 3 waterbird on water\\n'"
      ]
     },
     "execution_count": 8,
     "metadata": {},
     "output_type": "execute_result"
    }
   ],
   "source": [
    "'''\n",
    "y = 0: landbird\n",
    "y = 1: waterbird\n",
    "\n",
    "s = 0: land background\n",
    "s = 1: water background\n",
    "\n",
    "\n",
    "class = 0 landbird on land\n",
    "class = 1 landbird on water\n",
    "class = 2 waterbird on land\n",
    "class = 3 waterbird on water\n",
    "'''\n"
   ]
  },
  {
   "cell_type": "code",
   "execution_count": 8,
   "id": "19253e69",
   "metadata": {},
   "outputs": [],
   "source": [
    "out_lst = list()\n",
    "out_b_lst = list()\n",
    "class_id_lst = list()\n",
    "Anchor_dict = dict()\n",
    "\n",
    "with torch.no_grad():\n",
    "    for x, s, y in test_loader:\n",
    "        x, s, y = x.cuda(), s.cuda(), y.cuda()\n",
    "        bs = x.shape[0]\n",
    "        \n",
    "        class_id = s + 2 * y\n",
    "        feature_d, out = model_d(x)\n",
    "        feature_b, out_b = model_b(x)\n",
    "\n",
    "        out_lst.append(out)\n",
    "        out_b_lst.append(out_b)\n",
    "        class_id_lst.append(class_id)\n",
    "        \n",
    "    out_lst = torch.cat(out_lst)\n",
    "    out_b_lst = torch.cat(out_b_lst)\n",
    "    class_id_lst = torch.cat(class_id_lst)\n",
    "    bs = len(out_b_lst)\n",
    "    weight = W(out_lst, out_b_lst, bs) # (bs, bs - 1)\n",
    "\n",
    "    for i, cls_id in enumerate(class_id_lst):\n",
    "        cls_id = cls_id.item()\n",
    "        if cls_id not in Anchor_dict.keys():\n",
    "            Anchor_dict[cls_id] = {'N':[], 'N_class':[], 'P':[]}\n",
    "\n",
    "        cls_idx = class_id_lst == cls_id\n",
    "        mask = torch.ones((bs,), dtype=bool).cuda()\n",
    "        mask[i] = 0\n",
    "        cls_idx = cls_idx.masked_select(mask)\n",
    "\n",
    "        Anchor_dict[cls_id]['N'].append(weight[i][~cls_idx].detach().cpu())\n",
    "        Anchor_dict[cls_id]['N_class'].append(class_id_lst.masked_select(mask)[~cls_idx].detach().cpu())\n",
    "        Anchor_dict[cls_id]['P'].append(weight[i][cls_idx].detach().cpu())\n",
    "\n",
    "for key in Anchor_dict.keys():\n",
    "    Anchor_dict[key]['N'] = torch.cat(Anchor_dict[key]['N']).numpy()\n",
    "    Anchor_dict[key]['N_class'] = torch.cat(Anchor_dict[key]['N_class']).numpy()\n",
    "    Anchor_dict[key]['P'] = torch.cat(Anchor_dict[key]['P']).numpy()"
   ]
  },
  {
   "cell_type": "code",
   "execution_count": 11,
   "id": "dc15874b",
   "metadata": {},
   "outputs": [],
   "source": [
    "cls_dict = {0:'landbird on land (LoL)', 1:'landbird on water (LoW)', 2:'waterbird on land (WoL)', 3:'waterbird on water (WoW)'}"
   ]
  },
  {
   "cell_type": "code",
   "execution_count": 22,
   "id": "1dd023d3",
   "metadata": {
    "scrolled": true
   },
   "outputs": [
    {
     "data": {
      "image/png": "[encoded data removed]",
      "text/plain": [
       "<Figure size 432x288 with 1 Axes>"
      ]
     },
     "metadata": {
      "needs_background": "light"
     },
     "output_type": "display_data"
    },
    {
     "data": {
      "image/png": "[encoded data removed]",
      "text/plain": [
       "<Figure size 432x288 with 1 Axes>"
      ]
     },
     "metadata": {
      "needs_background": "light"
     },
     "output_type": "display_data"
    },
    {
     "data": {
      "image/png": "[encoded data removed]",
      "text/plain": [
       "<Figure size 432x288 with 1 Axes>"
      ]
     },
     "metadata": {
      "needs_background": "light"
     },
     "output_type": "display_data"
    },
    {
     "data": {
      "image/png": "[encoded data removed]",
      "text/plain": [
       "<Figure size 432x288 with 1 Axes>"
      ]
     },
     "metadata": {
      "needs_background": "light"
     },
     "output_type": "display_data"
    }
   ],
   "source": [
    "anchor_idx = 2\n",
    "colors = ['purple', 'green', 'cyan', 'red']\n",
    "# colors = ['aqua', 'gold', 'royalblue', 'darkorange', 'green', 'purple', 'cyan', 'yellow', 'lime']\n",
    "\n",
    "\n",
    "for anchor_idx in range(4):\n",
    "    plt.figure(figsize = (6,4))\n",
    "    for i in range(4):\n",
    "        if i != anchor_idx:\n",
    "            plt.hist(Anchor_dict[anchor_idx]['N'][Anchor_dict[anchor_idx]['N_class'] == i], bins = 100, alpha = 0.5, density = True, label = cls_dict[i] , color = colors[i])\n",
    "            plt.axvline(Anchor_dict[anchor_idx]['N'][Anchor_dict[anchor_idx]['N_class'] == i].mean(), c = colors[i])\n",
    "        else:\n",
    "            plt.hist(Anchor_dict[anchor_idx]['P'], bins = 100, alpha = 0.5, density = True, label = cls_dict[i] , color = colors[i])\n",
    "            plt.axvline(Anchor_dict[anchor_idx]['P'].mean(), c = colors[i])\n",
    "    \n",
    "#     plt.xlim(0.0)\n",
    "    plt.legend(fontsize = 13)\n",
    "    plt.xlabel('Weight Distribution', fontsize = 14)\n",
    "    plt.ylabel('Frequency', fontsize = 15)\n",
    "    plt.yticks([])\n",
    "    plt.title('Anchor : {}'.format(cls_dict[anchor_idx]), fontsize = 15)\n",
    "    plt.savefig('figures/illust/weight_CUB_{}.pdf'.format(anchor_idx), bbox_inches = 'tight')\n",
    "    plt.show()"
   ]
  },
  {
   "cell_type": "code",
   "execution_count": 15,
   "id": "ecb9dc54",
   "metadata": {},
   "outputs": [
    {
     "data": {
      "text/plain": [
       "1.6804302"
      ]
     },
     "execution_count": 15,
     "metadata": {},
     "output_type": "execute_result"
    }
   ],
   "source": [
    "Anchor_dict[anchor_idx]['N'][Anchor_dict[anchor_idx]['N_class'] == 0].mean()"
   ]
  },
  {
   "cell_type": "code",
   "execution_count": null,
   "id": "caf48bc9",
   "metadata": {},
   "outputs": [],
   "source": []
  },
  {
   "cell_type": "code",
   "execution_count": 14,
   "id": "57ef4456",
   "metadata": {},
   "outputs": [
    {
     "data": {
      "text/plain": [
       "'\\ny = 0: landbird\\ny = 1: waterbird\\n\\ns = 0: land background\\ns = 1: water background\\n\\n\\nclass = 0 landbird on land\\nclass = 1 landbird on water\\nclass = 2 waterbird on land\\nclass = 3 waterbird on water\\n'"
      ]
     },
     "execution_count": 14,
     "metadata": {},
     "output_type": "execute_result"
    }
   ],
   "source": [
    "'''\n",
    "y = 0: landbird\n",
    "y = 1: waterbird\n",
    "\n",
    "s = 0: land background\n",
    "s = 1: water background\n",
    "\n",
    "\n",
    "class = 0 landbird on land\n",
    "class = 1 landbird on water\n",
    "class = 2 waterbird on land\n",
    "class = 3 waterbird on water\n",
    "'''\n"
   ]
  },
  {
   "cell_type": "code",
   "execution_count": 15,
   "id": "2eba6792",
   "metadata": {},
   "outputs": [
    {
     "data": {
      "text/plain": [
       "'anchor 1, 3\\n\\nfor landbird on water --> hard sampels: landbird on land, waterbird on land\\n\\n\\n'"
      ]
     },
     "execution_count": 15,
     "metadata": {},
     "output_type": "execute_result"
    }
   ],
   "source": [
    "'''anchor 1, 3\n",
    "\n",
    "for landbird on water --> hard sampels: landbird on land, waterbird on land\n",
    "\n",
    "\n",
    "'''\n"
   ]
  },
  {
   "cell_type": "code",
   "execution_count": null,
   "id": "833cce30",
   "metadata": {},
   "outputs": [],
   "source": []
  },
  {
   "cell_type": "markdown",
   "id": "5f85eb88",
   "metadata": {},
   "source": [
    "## Cosine Similarity"
   ]
  },
  {
   "cell_type": "code",
   "execution_count": 136,
   "id": "9edc14c5",
   "metadata": {},
   "outputs": [],
   "source": [
    "#HCL\n",
    "model_d = Image_Model().cuda()\n",
    "model_d = nn.DataParallel(model_d)\n",
    "model_d.load_state_dict(torch.load(os.path.join(\"../results\", dataset_name, 'hcl', 'cub_hard_model_256_0.3_1.0_400.pth')))\n",
    "model_d.eval();\n",
    "\n",
    "# # #DCL\n",
    "# model_d = Image_Model().cuda()\n",
    "# model_d = nn.DataParallel(model_d)\n",
    "# model_d.load_state_dict(torch.load(os.path.join(\"../results\", dataset_name, 'dcl', 'model_400.pth')))\n",
    "# model_d.eval();"
   ]
  },
  {
   "cell_type": "code",
   "execution_count": 105,
   "id": "7538170e",
   "metadata": {},
   "outputs": [],
   "source": [
    "feature_lst = list()\n",
    "class_id_lst = list()\n",
    "Anchor_dict = dict()\n",
    "\n",
    "with torch.no_grad():\n",
    "    for x, s, y in test_loader:\n",
    "        x, s, y = x.cuda(), s.cuda(), y.cuda()\n",
    "        bs = x.shape[0]\n",
    "        \n",
    "        class_id = s + 2 * y\n",
    "        feature, out = model_d(x)\n",
    "\n",
    "        feature_lst.append(feature)\n",
    "        class_id_lst.append(class_id)\n",
    "        \n",
    "    feature_lst = torch.cat(feature_lst)\n",
    "    class_id_lst = torch.cat(class_id_lst)\n",
    "    bs = len(feature_lst)\n"
   ]
  },
  {
   "cell_type": "code",
   "execution_count": 106,
   "id": "8785fe42",
   "metadata": {},
   "outputs": [],
   "source": [
    "cs_list = list()\n",
    "for i in range(4):\n",
    "    cs_diag = torch.triu(torch.mm(feature_lst[class_id_lst == i], feature_lst[class_id_lst == i].t().contiguous()), diagonal = +1)\n",
    "    cs_diag = cs_diag[cs_diag != 0].detach().cpu()\n",
    "    cs_list.append(cs_diag)\n",
    "cs_list = torch.cat(cs_list).numpy()\n",
    "\n",
    "n_cs_list = list()\n",
    "for i in range(4):\n",
    "    cs_diag = torch.triu(torch.mm(feature_lst[class_id_lst == i], feature_lst[class_id_lst != i].t().contiguous()))\n",
    "    cs_diag = cs_diag[cs_diag != 0].detach().cpu()\n",
    "    n_cs_list.append(cs_diag)\n",
    "n_cs_list = torch.cat(n_cs_list).numpy()"
   ]
  },
  {
   "cell_type": "code",
   "execution_count": 109,
   "id": "edcf8082",
   "metadata": {},
   "outputs": [
    {
     "data": {
      "image/png": "[encoded data removed]",
      "text/plain": [
       "<Figure size 432x288 with 1 Axes>"
      ]
     },
     "metadata": {
      "needs_background": "light"
     },
     "output_type": "display_data"
    }
   ],
   "source": [
    "plt.hist(cs_list, bins = 100, alpha = 0.8, density = True);\n",
    "plt.hist(n_cs_list, bins = 100, alpha = 0.8, density = True);"
   ]
  },
  {
   "cell_type": "code",
   "execution_count": 128,
   "id": "f372b0e4",
   "metadata": {},
   "outputs": [
    {
     "name": "stderr",
     "output_type": "stream",
     "text": [
      "/home/taeuk/anaconda3/envs/main/lib/python3.9/site-packages/seaborn/distributions.py:2619: FutureWarning: `distplot` is a deprecated function and will be removed in a future version. Please adapt your code to use either `displot` (a figure-level function with similar flexibility) or `histplot` (an axes-level function for histograms).\n",
      "  warnings.warn(msg, FutureWarning)\n",
      "/home/taeuk/anaconda3/envs/main/lib/python3.9/site-packages/seaborn/distributions.py:2619: FutureWarning: `distplot` is a deprecated function and will be removed in a future version. Please adapt your code to use either `displot` (a figure-level function with similar flexibility) or `histplot` (an axes-level function for histograms).\n",
      "  warnings.warn(msg, FutureWarning)\n"
     ]
    },
    {
     "data": {
      "image/png": "[encoded data removed]",
      "text/plain": [
       "<Figure size 432x288 with 1 Axes>"
      ]
     },
     "metadata": {
      "needs_background": "light"
     },
     "output_type": "display_data"
    }
   ],
   "source": [
    "import numpy as np\n",
    "import seaborn as sns\n",
    "import scipy.stats as stats\n",
    "import matplotlib.pyplot as plt\n",
    "\n",
    "ax = sns.distplot(cs_list, fit_kws={\"color\":\"red\"}, kde=False,\n",
    "        fit=stats.beta, hist=None, label=\"label 1\");\n",
    "ax = sns.distplot(n_cs_list, fit_kws={\"color\":\"blue\"}, kde=False,\n",
    "        fit=stats.gamma, hist=None, label=\"label 2\");\n",
    "\n",
    "# Get the two lines from the axes to generate shading\n",
    "l1 = ax.lines[0]\n",
    "l2 = ax.lines[1]\n",
    "\n",
    "# Get the xy data from the lines so that we can shade\n",
    "x1 = l1.get_xydata()[:,0]\n",
    "y1 = l1.get_xydata()[:,1]\n",
    "x2 = l2.get_xydata()[:,0]\n",
    "y2 = l2.get_xydata()[:,1]\n",
    "ax.fill_between(x1,y1, color=\"red\", alpha=0.3)\n",
    "ax.fill_between(x2,y2, color=\"blue\", alpha=0.3)\n",
    "\n",
    "plt.show(block=False)"
   ]
  },
  {
   "cell_type": "code",
   "execution_count": null,
   "id": "f901db13",
   "metadata": {},
   "outputs": [],
   "source": []
  },
  {
   "cell_type": "code",
   "execution_count": null,
   "id": "a2881bc0",
   "metadata": {},
   "outputs": [],
   "source": []
  },
  {
   "cell_type": "markdown",
   "id": "575bd2b5",
   "metadata": {},
   "source": [
    "#### DCL"
   ]
  },
  {
   "cell_type": "code",
   "execution_count": 131,
   "id": "1119e135",
   "metadata": {},
   "outputs": [],
   "source": [
    "feature_lst_dcl = list()\n",
    "class_id_lst = list()\n",
    "\n",
    "with torch.no_grad():\n",
    "    for x, s, y in test_loader:\n",
    "        x, s, y = x.cuda(), s.cuda(), y.cuda()\n",
    "        bs = x.shape[0]\n",
    "        \n",
    "        class_id = s + 2 * y\n",
    "        feature, out = model_d(x)\n",
    "\n",
    "        feature_lst_dcl.append(feature)\n",
    "        class_id_lst.append(class_id)\n",
    "        \n",
    "    feature_lst_dcl = torch.cat(feature_lst_dcl)\n",
    "    class_id_lst = torch.cat(class_id_lst)\n",
    "    bs = len(feature_lst_dcl)\n",
    "\n",
    "\n",
    "cs_list_dcl = list()\n",
    "for i in range(4):\n",
    "    cs_diag = torch.triu(torch.mm(feature_lst_dcl[class_id_lst == i], feature_lst_dcl[class_id_lst == i].t().contiguous()), diagonal = +1)\n",
    "    cs_diag = cs_diag[cs_diag != 0].detach().cpu()\n",
    "    cs_list_dcl.append(cs_diag)\n",
    "cs_list_dcl = torch.cat(cs_list_dcl).numpy()\n",
    "\n",
    "n_cs_list_dcl = list()\n",
    "for i in range(4):\n",
    "    cs_diag = torch.triu(torch.mm(feature_lst_dcl[class_id_lst == i], feature_lst_dcl[class_id_lst != i].t().contiguous()))\n",
    "    cs_diag = cs_diag[cs_diag != 0].detach().cpu()\n",
    "    n_cs_list_dcl.append(cs_diag)\n",
    "n_cs_list_dcl = torch.cat(n_cs_list_dcl).numpy()"
   ]
  },
  {
   "cell_type": "markdown",
   "id": "ec807e92",
   "metadata": {},
   "source": [
    "#### HCL"
   ]
  },
  {
   "cell_type": "code",
   "execution_count": 137,
   "id": "35a6f272",
   "metadata": {},
   "outputs": [],
   "source": [
    "feature_lst_hcl = list()\n",
    "class_id_lst = list()\n",
    "\n",
    "with torch.no_grad():\n",
    "    for x, s, y in test_loader:\n",
    "        x, s, y = x.cuda(), s.cuda(), y.cuda()\n",
    "        bs = x.shape[0]\n",
    "        \n",
    "        class_id = s + 2 * y\n",
    "        feature, out = model_d(x)\n",
    "\n",
    "        feature_lst_hcl.append(feature)\n",
    "        class_id_lst.append(class_id)\n",
    "        \n",
    "    feature_lst_hcl = torch.cat(feature_lst_hcl)\n",
    "    class_id_lst = torch.cat(class_id_lst)\n",
    "    bs = len(feature_lst_hcl)\n",
    "\n",
    "\n",
    "cs_list_hcl = list()\n",
    "for i in range(4):\n",
    "    cs_diag = torch.triu(torch.mm(feature_lst_hcl[class_id_lst == i], feature_lst_hcl[class_id_lst == i].t().contiguous()), diagonal = +1)\n",
    "    cs_diag = cs_diag[cs_diag != 0].detach().cpu()\n",
    "    cs_list_hcl.append(cs_diag)\n",
    "cs_list_hcl = torch.cat(cs_list_hcl).numpy()\n",
    "\n",
    "n_cs_list_hcl = list()\n",
    "for i in range(4):\n",
    "    cs_diag = torch.triu(torch.mm(feature_lst_hcl[class_id_lst == i], feature_lst_hcl[class_id_lst != i].t().contiguous()))\n",
    "    cs_diag = cs_diag[cs_diag != 0].detach().cpu()\n",
    "    n_cs_list_hcl.append(cs_diag)\n",
    "n_cs_list_hcl = torch.cat(n_cs_list_hcl).numpy()"
   ]
  },
  {
   "cell_type": "code",
   "execution_count": null,
   "id": "a09cbe5d",
   "metadata": {},
   "outputs": [],
   "source": []
  },
  {
   "cell_type": "code",
   "execution_count": 139,
   "id": "a5158ed8",
   "metadata": {},
   "outputs": [
    {
     "name": "stderr",
     "output_type": "stream",
     "text": [
      "/home/taeuk/anaconda3/envs/main/lib/python3.9/site-packages/seaborn/distributions.py:2619: FutureWarning: `distplot` is a deprecated function and will be removed in a future version. Please adapt your code to use either `displot` (a figure-level function with similar flexibility) or `histplot` (an axes-level function for histograms).\n",
      "  warnings.warn(msg, FutureWarning)\n",
      "/home/taeuk/anaconda3/envs/main/lib/python3.9/site-packages/seaborn/distributions.py:2619: FutureWarning: `distplot` is a deprecated function and will be removed in a future version. Please adapt your code to use either `displot` (a figure-level function with similar flexibility) or `histplot` (an axes-level function for histograms).\n",
      "  warnings.warn(msg, FutureWarning)\n",
      "/home/taeuk/anaconda3/envs/main/lib/python3.9/site-packages/seaborn/distributions.py:2619: FutureWarning: `distplot` is a deprecated function and will be removed in a future version. Please adapt your code to use either `displot` (a figure-level function with similar flexibility) or `histplot` (an axes-level function for histograms).\n",
      "  warnings.warn(msg, FutureWarning)\n"
     ]
    },
    {
     "data": {
      "image/png": "[encoded data removed]",
      "text/plain": [
       "<Figure size 432x288 with 1 Axes>"
      ]
     },
     "metadata": {
      "needs_background": "light"
     },
     "output_type": "display_data"
    }
   ],
   "source": [
    "import numpy as np\n",
    "import seaborn as sns\n",
    "import scipy.stats as stats\n",
    "import matplotlib.pyplot as plt\n",
    "\n",
    "ax = sns.distplot(cs_list_dcl, fit_kws={\"color\":\"red\"}, kde=False,\n",
    "        fit=stats.beta, hist=None, label=\"label 1\");\n",
    "ax = sns.distplot(cs_list_hcl, fit_kws={\"color\":\"green\"}, kde=False,\n",
    "        fit=stats.beta, hist=None, label=\"label 1\");\n",
    "ax = sns.distplot(cs_list, fit_kws={\"color\":\"blue\"}, kde=False,\n",
    "        fit=stats.gamma, hist=None, label=\"label 2\");\n",
    "\n",
    "# Get the two lines from the axes to generate shading\n",
    "l1 = ax.lines[0]\n",
    "l2 = ax.lines[1]\n",
    "l3 = ax.lines[2]\n",
    "\n",
    "# Get the xy data from the lines so that we can shade\n",
    "x1 = l1.get_xydata()[:,0]\n",
    "y1 = l1.get_xydata()[:,1]\n",
    "x2 = l2.get_xydata()[:,0]\n",
    "y2 = l2.get_xydata()[:,1]\n",
    "x3 = l3.get_xydata()[:,0]\n",
    "y3 = l3.get_xydata()[:,1]\n",
    "ax.fill_between(x1,y1, color=\"red\", alpha=0.3)\n",
    "ax.fill_between(x2,y2, color=\"green\", alpha=0.3)\n",
    "ax.fill_between(x3,y3, color=\"blue\", alpha=0.3)\n",
    "\n",
    "plt.show(block=False)"
   ]
  },
  {
   "cell_type": "code",
   "execution_count": 140,
   "id": "0ab1b96c",
   "metadata": {},
   "outputs": [
    {
     "name": "stderr",
     "output_type": "stream",
     "text": [
      "/home/taeuk/anaconda3/envs/main/lib/python3.9/site-packages/seaborn/distributions.py:2619: FutureWarning: `distplot` is a deprecated function and will be removed in a future version. Please adapt your code to use either `displot` (a figure-level function with similar flexibility) or `histplot` (an axes-level function for histograms).\n",
      "  warnings.warn(msg, FutureWarning)\n",
      "/home/taeuk/anaconda3/envs/main/lib/python3.9/site-packages/seaborn/distributions.py:2619: FutureWarning: `distplot` is a deprecated function and will be removed in a future version. Please adapt your code to use either `displot` (a figure-level function with similar flexibility) or `histplot` (an axes-level function for histograms).\n",
      "  warnings.warn(msg, FutureWarning)\n",
      "/home/taeuk/anaconda3/envs/main/lib/python3.9/site-packages/seaborn/distributions.py:2619: FutureWarning: `distplot` is a deprecated function and will be removed in a future version. Please adapt your code to use either `displot` (a figure-level function with similar flexibility) or `histplot` (an axes-level function for histograms).\n",
      "  warnings.warn(msg, FutureWarning)\n"
     ]
    },
    {
     "data": {
      "image/png": "[encoded data removed]",
      "text/plain": [
       "<Figure size 432x288 with 1 Axes>"
      ]
     },
     "metadata": {
      "needs_background": "light"
     },
     "output_type": "display_data"
    }
   ],
   "source": [
    "import numpy as np\n",
    "import seaborn as sns\n",
    "import scipy.stats as stats\n",
    "import matplotlib.pyplot as plt\n",
    "\n",
    "ax = sns.distplot(n_cs_list_dcl, fit_kws={\"color\":\"red\"}, kde=False,\n",
    "        fit=stats.beta, hist=None, label=\"label 1\");\n",
    "ax = sns.distplot(n_cs_list_hcl, fit_kws={\"color\":\"green\"}, kde=False,\n",
    "        fit=stats.beta, hist=None, label=\"label 1\");\n",
    "ax = sns.distplot(n_cs_list, fit_kws={\"color\":\"blue\"}, kde=False,\n",
    "        fit=stats.gamma, hist=None, label=\"label 2\");\n",
    "\n",
    "# Get the two lines from the axes to generate shading\n",
    "l1 = ax.lines[0]\n",
    "l2 = ax.lines[1]\n",
    "l3 = ax.lines[2]\n",
    "\n",
    "# Get the xy data from the lines so that we can shade\n",
    "x1 = l1.get_xydata()[:,0]\n",
    "y1 = l1.get_xydata()[:,1]\n",
    "x2 = l2.get_xydata()[:,0]\n",
    "y2 = l2.get_xydata()[:,1]\n",
    "x3 = l3.get_xydata()[:,0]\n",
    "y3 = l3.get_xydata()[:,1]\n",
    "ax.fill_between(x1,y1, color=\"red\", alpha=0.3)\n",
    "ax.fill_between(x2,y2, color=\"green\", alpha=0.3)\n",
    "ax.fill_between(x3,y3, color=\"blue\", alpha=0.3)\n",
    "\n",
    "plt.show(block=False)"
   ]
  },
  {
   "cell_type": "code",
   "execution_count": null,
   "id": "b9609560",
   "metadata": {},
   "outputs": [],
   "source": []
  },
  {
   "cell_type": "code",
   "execution_count": null,
   "id": "68cc891f",
   "metadata": {},
   "outputs": [],
   "source": []
  },
  {
   "cell_type": "code",
   "execution_count": null,
   "id": "e1f2eb66",
   "metadata": {},
   "outputs": [],
   "source": []
  }
 ],
 "metadata": {
  "kernelspec": {
   "display_name": "Python [conda env:main]",
   "language": "python",
   "name": "conda-env-main-py"
  },
  "language_info": {
   "codemirror_mode": {
    "name": "ipython",
    "version": 3
   },
   "file_extension": ".py",
   "mimetype": "text/x-python",
   "name": "python",
   "nbconvert_exporter": "python",
   "pygments_lexer": "ipython3",
   "version": "3.9.7"
  }
 },
 "nbformat": 4,
 "nbformat_minor": 5
}

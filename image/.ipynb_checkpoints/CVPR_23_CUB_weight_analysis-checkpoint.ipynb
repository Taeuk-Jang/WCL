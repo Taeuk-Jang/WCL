{
 "cells": [
  {
   "cell_type": "code",
   "execution_count": 1,
   "id": "92775e17",
   "metadata": {},
   "outputs": [
    {
     "data": {
      "text/html": [
       "<style>.container { width:95% !important; }<\\style>"
      ],
      "text/plain": [
       "<IPython.core.display.HTML object>"
      ]
     },
     "metadata": {},
     "output_type": "display_data"
    }
   ],
   "source": [
    "%load_ext autoreload\n",
    "%autoreload 2\n",
    "\n",
    "\n",
    "from IPython.core.display import display, HTML\n",
    "display(HTML(\"<style>.container { width:95% !important; }<\\style>\"))\n",
    "import argparse\n",
    "import os\n",
    "import pandas as pd\n",
    "\n",
    "import numpy as np\n",
    "from sklearn.manifold import TSNE\n",
    "import matplotlib.pyplot as plt\n",
    "\n",
    "from PIL import Image\n",
    "import tqdm\n"
   ]
  },
  {
   "cell_type": "code",
   "execution_count": 2,
   "id": "55d473b2",
   "metadata": {},
   "outputs": [],
   "source": [
    "os.environ['CUDA_VISIBLE_DEVICES'] = '1,2'"
   ]
  },
  {
   "cell_type": "code",
   "execution_count": 3,
   "id": "f5b42773",
   "metadata": {},
   "outputs": [],
   "source": [
    "import torch\n",
    "import torchvision.transforms as transforms\n",
    "from torch.utils.data import Dataset, DataLoader\n",
    "from torchvision import models\n",
    "from torchvision import datasets, models, transforms\n",
    "import torch.nn as nn\n",
    "from torch.nn import functional as F\n",
    "import torch.optim as optim\n",
    "from collections import OrderedDict\n",
    "from torch.nn.functional import one_hot as one_hot\n",
    "import torch.utils.data as data\n",
    "import utils\n",
    "from model import * \n"
   ]
  },
  {
   "cell_type": "code",
   "execution_count": 4,
   "id": "ebc0b969",
   "metadata": {},
   "outputs": [],
   "source": [
    "def get_negative_mask(batch_size):\n",
    "    negative_mask = torch.ones((batch_size, 1 * batch_size), dtype=bool)\n",
    "    for i in range(batch_size):\n",
    "        negative_mask[i, i] = 0\n",
    "#         negative_mask[i, i + batch_size] = 0\n",
    "#     negative_mask = torch.cat((negative_mask, negative_mask), 0)\n",
    "    return negative_mask\n",
    "\n",
    "def triplet(out_1,out_2,tau_plus,batch_size,temperature, debias = True):\n",
    "    N = batch_size * 2 - 2\n",
    "    out = torch.cat([out_1, out_2], dim=0) # 2 * bs x fs\n",
    "    s = torch.pow(out.unsqueeze(0) - out.unsqueeze(1), 2).sum(-1) # 2 * bs x 2 * bs\n",
    "    mask = get_negative_mask(batch_size).to(device)\n",
    "    \n",
    "    if debias:\n",
    "        s = s.masked_select(mask).view(2 * batch_size, -1)  # (2 * bs, 2 * bs - 2) : subtract self and its augment\n",
    "\n",
    "        pos = (torch.pow(out_1 - out_2, 2))\n",
    "        pos = torch.cat([pos, pos], dim=0).sum(-1)\n",
    "\n",
    "        neg = (-tau_plus * N * pos + s.sum(-1)) / (1 - tau_plus)\n",
    "\n",
    "    else:\n",
    "        neg = s.masked_select(mask).view(2 * batch_size, -1)  # (2 * bs, 2 * bs - 2) : subtract self and its augment\n",
    "\n",
    "        pos = (torch.pow(out_1 - out_2, 2))\n",
    "        pos = torch.cat([pos, pos], dim=0).sum(-1)\n",
    "\n",
    "    return (pos - neg).mean()\n",
    "\n",
    "def W(out_d, out_b, batch_size):\n",
    "    mask = get_negative_mask(batch_size).to(device)\n",
    "    \n",
    "#     difficulty by cosine similarity\n",
    "    s_d = torch.exp(torch.mm(out_d, out_d.t().contiguous()) / temperature)\n",
    "    s_d = s_d.masked_select(mask).view(1 * batch_size, -1) # (2 * bs, 2 * bs - 2) : subtract self and its augment\n",
    "    s_d = F.normalize(s_d, dim = -1)\n",
    "    \n",
    "    s_b = torch.exp(torch.mm(out_b, out_b.t().contiguous()) / temperature)\n",
    "    s_b = s_b.masked_select(mask).view(1 * batch_size, -1) # (2 * bs, 2 * bs - 2) : subtract self and its augment\n",
    "    s_b = F.normalize(s_b, dim = -1)\n",
    "    \n",
    "    weight = 1 + s_d / (s_b + s_d + 1e-6)\n",
    "#     print(weight)\n",
    "    if np.isnan(weight.sum().item()):\n",
    "        print('weight NaN')\n",
    "        \n",
    "    return weight.detach()\n",
    "\n",
    "def criterion(out_1_d, out_2_d, out_1_b, out_2_b, tau_plus, batch_size, beta, temperature):\n",
    "    # neg score\n",
    "    out = torch.cat([out_1_d, out_2_d], dim=0)\n",
    "    out_b = torch.cat([out_1_b, out_2_b], dim=0)\n",
    "    neg = torch.exp(torch.mm(out, out.t().contiguous()) / temperature)\n",
    "    mask = get_negative_mask(batch_size).to(device)\n",
    "    neg = neg.masked_select(mask).view(2 * batch_size, -1) # (2 * bs, bs - 2) : subtract self and its augment\n",
    "\n",
    "    # pos score\n",
    "    pos = torch.exp(torch.sum(out_1_d * out_2_d, dim=-1) / temperature)\n",
    "    pos = torch.cat([pos, pos], dim=0)\n",
    "    \n",
    "    weight = W(out, out_b, batch_size) # (2 * bs, bs - 2)\n",
    "\n",
    "    # negative samples similarity scoring\n",
    "    N = batch_size * 2 - 2\n",
    "#         imp = (beta* neg.log()).exp()\n",
    "#         reweight_neg = (imp*neg).sum(dim = -1) / imp.mean(dim = -1)\n",
    "    reweight_neg = weight * neg\n",
    "\n",
    "    Ng = (-tau_plus * N * pos + reweight_neg.sum(dim = -1)) / (1 - tau_plus)\n",
    "    # constrain (optional)\n",
    "    Ng = torch.clamp(Ng, min = N * np.e**(-1 / temperature))\n",
    "\n",
    "    # contrastive loss\n",
    "    loss = (-torch.log(pos / (pos + Ng) )).mean()\n",
    "\n",
    "    return loss"
   ]
  },
  {
   "cell_type": "code",
   "execution_count": 5,
   "id": "af172d32",
   "metadata": {},
   "outputs": [],
   "source": [
    "batch_size = 128\n",
    "device = 'cuda:0'\n",
    "tau_plus = 0.1\n",
    "dataset_name = 'cub'\n",
    "beta =0.9\n",
    "estimator = 'hard'\n",
    "temperature =0.7\n",
    "epochs = 400\n",
    "\n"
   ]
  },
  {
   "cell_type": "code",
   "execution_count": 6,
   "id": "24251ab0",
   "metadata": {
    "scrolled": true
   },
   "outputs": [],
   "source": [
    "model_d = Image_Model().cuda()\n",
    "model_d = nn.DataParallel(model_d)\n",
    "model_d.load_state_dict(torch.load(os.path.join(\"../results\", dataset_name, 'wcl', 'no_orient_new/cub_model_d_256_0.1_0.3_0.001_100.pth')))\n",
    "model_d.eval();\n",
    "\n",
    "model_b = Image_Model().cuda()\n",
    "model_b = nn.DataParallel(model_b)\n",
    "model_b.load_state_dict(torch.load(os.path.join(\"../results\", dataset_name, 'wcl', 'no_orient_new/cub_model_b_256_0.1_0.3_0.001_100.pth')))\n",
    "model_b.eval();\n"
   ]
  },
  {
   "cell_type": "code",
   "execution_count": null,
   "id": "332a80d0",
   "metadata": {},
   "outputs": [],
   "source": []
  },
  {
   "cell_type": "code",
   "execution_count": 7,
   "id": "b8141649",
   "metadata": {},
   "outputs": [],
   "source": [
    "train_data, memory_data, test_data = utils.get_dataset('cub', root='../data', pair = False)\n",
    "\n",
    "train_loader = DataLoader(train_data, batch_size=batch_size, shuffle=False, num_workers=12, pin_memory=True, drop_last=True)\n",
    "memory_loader = DataLoader(memory_data, batch_size=batch_size, shuffle=False, num_workers=12, pin_memory=True)\n",
    "test_loader = DataLoader(test_data, batch_size=batch_size, shuffle=False, num_workers=12, pin_memory=True)\n",
    "\n",
    "k = 200\n",
    "c = len(memory_data.classes)"
   ]
  },
  {
   "cell_type": "code",
   "execution_count": 8,
   "id": "714f6366",
   "metadata": {},
   "outputs": [
    {
     "data": {
      "text/plain": [
       "'\\ny = 0: landbird\\ny = 1: waterbird\\n\\ns = 0: land background\\ns = 1: water background\\n\\n\\nclass = 0 landbird on land\\nclass = 1 landbird on water\\nclass = 2 waterbird on land\\nclass = 3 waterbird on water\\n'"
      ]
     },
     "execution_count": 8,
     "metadata": {},
     "output_type": "execute_result"
    }
   ],
   "source": [
    "'''\n",
    "y = 0: landbird\n",
    "y = 1: waterbird\n",
    "\n",
    "s = 0: land background\n",
    "s = 1: water background\n",
    "\n",
    "\n",
    "class = 0 landbird on land\n",
    "class = 1 landbird on water\n",
    "class = 2 waterbird on land\n",
    "class = 3 waterbird on water\n",
    "'''\n"
   ]
  },
  {
   "cell_type": "code",
   "execution_count": 9,
   "id": "c8034e9e",
   "metadata": {},
   "outputs": [],
   "source": [
    "x, s, y = iter(test_loader).next()\n",
    "x, s, y = x.cuda(), s.cuda(), y.cuda() "
   ]
  },
  {
   "cell_type": "code",
   "execution_count": 10,
   "id": "38e7b461",
   "metadata": {},
   "outputs": [],
   "source": [
    "Anchor_dict = dict()\n",
    "\n",
    "with torch.no_grad():\n",
    "    for x, s, y in test_loader:\n",
    "        x, s, y = x.cuda(), s.cuda(), y.cuda()\n",
    "        bs = x.shape[0]\n",
    "        \n",
    "        class_id = s + 2 * y\n",
    "        feature_d, out = model_d(x)\n",
    "        feature_b, out_b = model_b(x)\n",
    "\n",
    "        neg = torch.exp(torch.mm(out, out.t().contiguous()) / temperature)\n",
    "        weight = W(out, out_b, bs) # (bs, bs - 1)\n",
    "        \n",
    "        for i, cls_id in enumerate(class_id):\n",
    "            cls_id = cls_id.item()\n",
    "            if cls_id not in Anchor_dict.keys():\n",
    "                Anchor_dict[cls_id] = {'N':[], 'N_class':[], 'P':[]}\n",
    "                \n",
    "            cls_idx = class_id == cls_id\n",
    "            mask = torch.ones((bs,), dtype=bool).cuda()\n",
    "            mask[i] = 0\n",
    "            cls_idx = cls_idx.masked_select(mask)\n",
    "            \n",
    "            Anchor_dict[cls_id]['N'].append(weight[i][~cls_idx].detach().cpu())\n",
    "            Anchor_dict[cls_id]['N_class'].append(class_id.masked_select(mask)[~cls_idx].detach().cpu())\n",
    "            Anchor_dict[cls_id]['P'].append(weight[i][cls_idx].detach().cpu())\n",
    "            \n",
    "for key in Anchor_dict.keys():\n",
    "    Anchor_dict[key]['N'] = torch.cat(Anchor_dict[key]['N']).numpy()\n",
    "    Anchor_dict[key]['N_class'] = torch.cat(Anchor_dict[key]['N_class']).numpy()\n",
    "    Anchor_dict[key]['P'] = torch.cat(Anchor_dict[key]['P']).numpy()"
   ]
  },
  {
   "cell_type": "code",
   "execution_count": 11,
   "id": "f0ebc512",
   "metadata": {
    "scrolled": true
   },
   "outputs": [
    {
     "data": {
      "image/png": "[encoded data removed]",
      "text/plain": [
       "<Figure size 576x432 with 1 Axes>"
      ]
     },
     "metadata": {
      "needs_background": "light"
     },
     "output_type": "display_data"
    },
    {
     "data": {
      "image/png": "[encoded data removed]",
      "text/plain": [
       "<Figure size 576x432 with 1 Axes>"
      ]
     },
     "metadata": {
      "needs_background": "light"
     },
     "output_type": "display_data"
    },
    {
     "data": {
      "image/png": "[encoded data removed]",
      "text/plain": [
       "<Figure size 576x432 with 1 Axes>"
      ]
     },
     "metadata": {
      "needs_background": "light"
     },
     "output_type": "display_data"
    },
    {
     "data": {
      "image/png": "[encoded data removed]",
      "text/plain": [
       "<Figure size 576x432 with 1 Axes>"
      ]
     },
     "metadata": {
      "needs_background": "light"
     },
     "output_type": "display_data"
    }
   ],
   "source": [
    "anchor_idx = 2\n",
    "\n",
    "for anchor_idx in range(4):\n",
    "    plt.figure(figsize = (8,6))\n",
    "    for i in range(4):\n",
    "        if i != anchor_idx:\n",
    "            plt.hist(Anchor_dict[anchor_idx]['N'][Anchor_dict[anchor_idx]['N_class'] == i], bins = 50, alpha = 0.5, density = True, label = i )\n",
    "    plt.legend()\n",
    "    plt.title('Anchor = {}'.format(anchor_idx))\n",
    "    plt.show()"
   ]
  },
  {
   "cell_type": "code",
   "execution_count": null,
   "id": "ccfdf67f",
   "metadata": {},
   "outputs": [],
   "source": []
  },
  {
   "cell_type": "code",
   "execution_count": 12,
   "id": "b9716d26",
   "metadata": {},
   "outputs": [],
   "source": [
    "out_lst = list()\n",
    "out_b_lst = list()\n",
    "class_id_lst = list()\n",
    "Anchor_dict = dict()\n",
    "\n",
    "with torch.no_grad():\n",
    "    for x, s, y in test_loader:\n",
    "        x, s, y = x.cuda(), s.cuda(), y.cuda()\n",
    "        bs = x.shape[0]\n",
    "        \n",
    "        class_id = s + 2 * y\n",
    "        feature_d, out = model_d(x)\n",
    "        feature_b, out_b = model_b(x)\n",
    "\n",
    "        out_lst.append(out)\n",
    "        out_b_lst.append(out_b)\n",
    "        class_id_lst.append(class_id)\n",
    "        \n",
    "    out_lst = torch.cat(out_lst)\n",
    "    out_b_lst = torch.cat(out_b_lst)\n",
    "    class_id_lst = torch.cat(class_id_lst)\n",
    "    bs = len(out_b_lst)\n",
    "    weight = W(out_lst, out_b_lst, bs) # (bs, bs - 1)\n",
    "\n",
    "    for i, cls_id in enumerate(class_id_lst):\n",
    "        cls_id = cls_id.item()\n",
    "        if cls_id not in Anchor_dict.keys():\n",
    "            Anchor_dict[cls_id] = {'N':[], 'N_class':[], 'P':[]}\n",
    "\n",
    "        cls_idx = class_id_lst == cls_id\n",
    "        mask = torch.ones((bs,), dtype=bool).cuda()\n",
    "        mask[i] = 0\n",
    "        cls_idx = cls_idx.masked_select(mask)\n",
    "\n",
    "        Anchor_dict[cls_id]['N'].append(weight[i][~cls_idx].detach().cpu())\n",
    "        Anchor_dict[cls_id]['N_class'].append(class_id_lst.masked_select(mask)[~cls_idx].detach().cpu())\n",
    "        Anchor_dict[cls_id]['P'].append(weight[i][cls_idx].detach().cpu())\n",
    "\n",
    "for key in Anchor_dict.keys():\n",
    "    Anchor_dict[key]['N'] = torch.cat(Anchor_dict[key]['N']).numpy()\n",
    "    Anchor_dict[key]['N_class'] = torch.cat(Anchor_dict[key]['N_class']).numpy()\n",
    "    Anchor_dict[key]['P'] = torch.cat(Anchor_dict[key]['P']).numpy()"
   ]
  },
  {
   "cell_type": "code",
   "execution_count": 13,
   "id": "579b6b83",
   "metadata": {
    "scrolled": true
   },
   "outputs": [
    {
     "data": {
      "image/png": "[encoded data removed]",
      "text/plain": [
       "<Figure size 576x432 with 1 Axes>"
      ]
     },
     "metadata": {
      "needs_background": "light"
     },
     "output_type": "display_data"
    },
    {
     "data": {
      "image/png": "[encoded data removed]",
      "text/plain": [
       "<Figure size 576x432 with 1 Axes>"
      ]
     },
     "metadata": {
      "needs_background": "light"
     },
     "output_type": "display_data"
    },
    {
     "data": {
      "image/png": "[encoded data removed]",
      "text/plain": [
       "<Figure size 576x432 with 1 Axes>"
      ]
     },
     "metadata": {
      "needs_background": "light"
     },
     "output_type": "display_data"
    },
    {
     "data": {
      "image/png": "[encoded data removed]",
      "text/plain": [
       "<Figure size 576x432 with 1 Axes>"
      ]
     },
     "metadata": {
      "needs_background": "light"
     },
     "output_type": "display_data"
    }
   ],
   "source": [
    "anchor_idx = 2\n",
    "\n",
    "for anchor_idx in range(4):\n",
    "    plt.figure(figsize = (8,6))\n",
    "    for i in range(4):\n",
    "        if i != anchor_idx:\n",
    "            plt.hist(Anchor_dict[anchor_idx]['N'][Anchor_dict[anchor_idx]['N_class'] == i], bins = 50, alpha = 0.5, density = True, label = i )\n",
    "        else:\n",
    "            plt.hist(Anchor_dict[anchor_idx]['P'], bins = 50, alpha = 0.5, density = True, label = i )\n",
    "    \n",
    "    plt.legend()\n",
    "    plt.title('Anchor = {}'.format(anchor_idx))\n",
    "    plt.show()"
   ]
  },
  {
   "cell_type": "code",
   "execution_count": 14,
   "id": "0ce459d6",
   "metadata": {},
   "outputs": [
    {
     "data": {
      "text/plain": [
       "'\\ny = 0: landbird\\ny = 1: waterbird\\n\\ns = 0: land background\\ns = 1: water background\\n\\n\\nclass = 0 landbird on land\\nclass = 1 landbird on water\\nclass = 2 waterbird on land\\nclass = 3 waterbird on water\\n'"
      ]
     },
     "execution_count": 14,
     "metadata": {},
     "output_type": "execute_result"
    }
   ],
   "source": [
    "'''\n",
    "y = 0: landbird\n",
    "y = 1: waterbird\n",
    "\n",
    "s = 0: land background\n",
    "s = 1: water background\n",
    "\n",
    "\n",
    "class = 0 landbird on land\n",
    "class = 1 landbird on water\n",
    "class = 2 waterbird on land\n",
    "class = 3 waterbird on water\n",
    "'''\n"
   ]
  },
  {
   "cell_type": "code",
   "execution_count": 15,
   "id": "9e88b3e0",
   "metadata": {},
   "outputs": [
    {
     "data": {
      "text/plain": [
       "'anchor 1, 3\\n\\nfor landbird on water --> hard sampels: landbird on land, waterbird on land\\n\\n\\n'"
      ]
     },
     "execution_count": 15,
     "metadata": {},
     "output_type": "execute_result"
    }
   ],
   "source": [
    "'''anchor 1, 3\n",
    "\n",
    "for landbird on water --> hard sampels: landbird on land, waterbird on land\n",
    "\n",
    "\n",
    "'''\n"
   ]
  },
  {
   "cell_type": "code",
   "execution_count": null,
   "id": "19c9f196",
   "metadata": {},
   "outputs": [],
   "source": []
  },
  {
   "cell_type": "markdown",
   "id": "b23c15f6",
   "metadata": {},
   "source": [
    "## Cosine Similarity"
   ]
  },
  {
   "cell_type": "code",
   "execution_count": 16,
   "id": "42f959d1",
   "metadata": {},
   "outputs": [],
   "source": [
    "feature_lst = list()\n",
    "class_id_lst = list()\n",
    "Anchor_dict = dict()\n",
    "\n",
    "with torch.no_grad():\n",
    "    for x, s, y in test_loader:\n",
    "        x, s, y = x.cuda(), s.cuda(), y.cuda()\n",
    "        bs = x.shape[0]\n",
    "        \n",
    "        class_id = s + 2 * y\n",
    "        feature, out = model_d(x)\n",
    "\n",
    "        feature_lst.append(feature)\n",
    "        class_id_lst.append(class_id)\n",
    "        \n",
    "    feature_lst = torch.cat(feature_lst)\n",
    "    class_id_lst = torch.cat(class_id_lst)\n",
    "    bs = len(feature_lst)\n",
    "\n",
    "    "
   ]
  },
  {
   "cell_type": "code",
   "execution_count": 22,
   "id": "d9e56fe1",
   "metadata": {},
   "outputs": [],
   "source": [
    "cs = torch.mm(feature_lst, feature_lst.t().contiguous())  # (N x N)"
   ]
  },
  {
   "cell_type": "code",
   "execution_count": null,
   "id": "e057c17c",
   "metadata": {},
   "outputs": [],
   "source": []
  },
  {
   "cell_type": "code",
   "execution_count": null,
   "id": "f5505e3c",
   "metadata": {},
   "outputs": [],
   "source": []
  },
  {
   "cell_type": "code",
   "execution_count": null,
   "id": "729b744a",
   "metadata": {},
   "outputs": [],
   "source": []
  },
  {
   "cell_type": "code",
   "execution_count": null,
   "id": "beea69a2",
   "metadata": {},
   "outputs": [],
   "source": []
  },
  {
   "cell_type": "code",
   "execution_count": null,
   "id": "89950c14",
   "metadata": {},
   "outputs": [],
   "source": [
    "for i, cls_id in enumerate(class_id_lst):\n",
    "        cls_id = cls_id.item()\n",
    "        if cls_id not in Anchor_dict.keys():\n",
    "            Anchor_dict[cls_id] = {'N':[], 'N_class':[], 'P':[]}\n",
    "\n",
    "        cls_idx = class_id_lst == cls_id\n",
    "        mask = torch.ones((bs,), dtype=bool).cuda()\n",
    "        mask[i] = 0\n",
    "        cls_idx = cls_idx.masked_select(mask)\n",
    "\n",
    "        Anchor_dict[cls_id]['N'].append(weight[i][~cls_idx].detach().cpu())\n",
    "        Anchor_dict[cls_id]['N_class'].append(class_id_lst.masked_select(mask)[~cls_idx].detach().cpu())\n",
    "        Anchor_dict[cls_id]['P'].append(weight[i][cls_idx].detach().cpu())\n",
    "\n",
    "for key in Anchor_dict.keys():\n",
    "    Anchor_dict[key]['N'] = torch.cat(Anchor_dict[key]['N']).numpy()\n",
    "    Anchor_dict[key]['N_class'] = torch.cat(Anchor_dict[key]['N_class']).numpy()\n",
    "    Anchor_dict[key]['P'] = torch.cat(Anchor_dict[key]['P']).numpy()"
   ]
  },
  {
   "cell_type": "code",
   "execution_count": null,
   "id": "b9609560",
   "metadata": {},
   "outputs": [],
   "source": []
  },
  {
   "cell_type": "code",
   "execution_count": null,
   "id": "68cc891f",
   "metadata": {},
   "outputs": [],
   "source": []
  },
  {
   "cell_type": "code",
   "execution_count": null,
   "id": "e1f2eb66",
   "metadata": {},
   "outputs": [],
   "source": []
  }
 ],
 "metadata": {
  "kernelspec": {
   "display_name": "Python [conda env:main]",
   "language": "python",
   "name": "conda-env-main-py"
  },
  "language_info": {
   "codemirror_mode": {
    "name": "ipython",
    "version": 3
   },
   "file_extension": ".py",
   "mimetype": "text/x-python",
   "name": "python",
   "nbconvert_exporter": "python",
   "pygments_lexer": "ipython3",
   "version": "3.9.7"
  }
 },
 "nbformat": 4,
 "nbformat_minor": 5
}
